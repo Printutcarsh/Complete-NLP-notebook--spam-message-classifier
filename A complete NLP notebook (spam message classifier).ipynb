{
 "cells": [
  {
   "cell_type": "markdown",
   "metadata": {
    "papermill": {
     "duration": 0.025734,
     "end_time": "2020-11-23T13:20:28.232892",
     "exception": false,
     "start_time": "2020-11-23T13:20:28.207158",
     "status": "completed"
    },
    "tags": []
   },
   "source": [
    "# Introduction\n",
    "In this kernel I will go through alomst all the machine learning and deep learning ways to complete any NLP task. Here I will be using spam classifier example in which we have to determine whether the message is spam or not."
   ]
  },
  {
   "cell_type": "markdown",
   "metadata": {
    "papermill": {
     "duration": 0.024434,
     "end_time": "2020-11-23T13:20:28.282314",
     "exception": false,
     "start_time": "2020-11-23T13:20:28.257880",
     "status": "completed"
    },
    "tags": []
   },
   "source": [
    "# Table of Contents\n",
    "* Importing Libraries\n",
    "* Reading the data\n",
    "* Exploratory Data Analysis\n",
    "* Data Cleaning\n",
    "* Deep Learning Models"
   ]
  },
  {
   "cell_type": "markdown",
   "metadata": {
    "papermill": {
     "duration": 0.024593,
     "end_time": "2020-11-23T13:20:28.331544",
     "exception": false,
     "start_time": "2020-11-23T13:20:28.306951",
     "status": "completed"
    },
    "tags": []
   },
   "source": [
    "# Importing Libraries"
   ]
  },
  {
   "cell_type": "code",
   "execution_count": 1,
   "metadata": {
    "_cell_guid": "b1076dfc-b9ad-4769-8c92-a6c4dae69d19",
    "_uuid": "8f2839f25d086af736a60e9eeb907d3b93b6e0e5",
    "execution": {
     "iopub.execute_input": "2020-11-23T13:20:28.393771Z",
     "iopub.status.busy": "2020-11-23T13:20:28.393106Z",
     "iopub.status.idle": "2020-11-23T13:20:37.436098Z",
     "shell.execute_reply": "2020-11-23T13:20:37.435376Z"
    },
    "papermill": {
     "duration": 9.079345,
     "end_time": "2020-11-23T13:20:37.436214",
     "exception": false,
     "start_time": "2020-11-23T13:20:28.356869",
     "status": "completed"
    },
    "tags": []
   },
   "outputs": [],
   "source": [
    "import numpy as np\n",
    "import pandas as pd \n",
    "import re\n",
    "import nltk\n",
    "from nltk.corpus import stopwords\n",
    "from nltk.stem.porter import PorterStemmer\n",
    "import matplotlib.pyplot as plt\n",
    "import seaborn as sns\n",
    "%matplotlib inline\n",
    "from sklearn.model_selection import train_test_split\n",
    "\n",
    "from keras.preprocessing.text import one_hot\n",
    "from keras.preprocessing.sequence import pad_sequences\n",
    "from keras.models import Sequential\n",
    "from keras.layers import Dense, Embedding, LSTM, Flatten, Dropout, SimpleRNN, Bidirectional\n",
    "from keras.optimizers import Adam"
   ]
  },
  {
   "cell_type": "markdown",
   "metadata": {
    "papermill": {
     "duration": 0.024106,
     "end_time": "2020-11-23T13:20:37.485347",
     "exception": false,
     "start_time": "2020-11-23T13:20:37.461241",
     "status": "completed"
    },
    "tags": []
   },
   "source": [
    "# Reading the data"
   ]
  },
  {
   "cell_type": "code",
   "execution_count": 2,
   "metadata": {
    "_cell_guid": "79c7e3d0-c299-4dcb-8224-4455121ee9b0",
    "_uuid": "d629ff2d2480ee46fbb7e2d37f6b5fab8052498a",
    "execution": {
     "iopub.execute_input": "2020-11-23T13:20:37.548085Z",
     "iopub.status.busy": "2020-11-23T13:20:37.547292Z",
     "iopub.status.idle": "2020-11-23T13:20:37.591348Z",
     "shell.execute_reply": "2020-11-23T13:20:37.590822Z"
    },
    "papermill": {
     "duration": 0.080616,
     "end_time": "2020-11-23T13:20:37.591454",
     "exception": false,
     "start_time": "2020-11-23T13:20:37.510838",
     "status": "completed"
    },
    "tags": []
   },
   "outputs": [
    {
     "data": {
      "text/html": [
       "<div>\n",
       "<style scoped>\n",
       "    .dataframe tbody tr th:only-of-type {\n",
       "        vertical-align: middle;\n",
       "    }\n",
       "\n",
       "    .dataframe tbody tr th {\n",
       "        vertical-align: top;\n",
       "    }\n",
       "\n",
       "    .dataframe thead th {\n",
       "        text-align: right;\n",
       "    }\n",
       "</style>\n",
       "<table border=\"1\" class=\"dataframe\">\n",
       "  <thead>\n",
       "    <tr style=\"text-align: right;\">\n",
       "      <th></th>\n",
       "      <th>Category</th>\n",
       "      <th>Message</th>\n",
       "    </tr>\n",
       "  </thead>\n",
       "  <tbody>\n",
       "    <tr>\n",
       "      <th>0</th>\n",
       "      <td>ham</td>\n",
       "      <td>Go until jurong point, crazy.. Available only ...</td>\n",
       "    </tr>\n",
       "    <tr>\n",
       "      <th>1</th>\n",
       "      <td>ham</td>\n",
       "      <td>Ok lar... Joking wif u oni...</td>\n",
       "    </tr>\n",
       "    <tr>\n",
       "      <th>2</th>\n",
       "      <td>spam</td>\n",
       "      <td>Free entry in 2 a wkly comp to win FA Cup fina...</td>\n",
       "    </tr>\n",
       "    <tr>\n",
       "      <th>3</th>\n",
       "      <td>ham</td>\n",
       "      <td>U dun say so early hor... U c already then say...</td>\n",
       "    </tr>\n",
       "    <tr>\n",
       "      <th>4</th>\n",
       "      <td>ham</td>\n",
       "      <td>Nah I don't think he goes to usf, he lives aro...</td>\n",
       "    </tr>\n",
       "  </tbody>\n",
       "</table>\n",
       "</div>"
      ],
      "text/plain": [
       "  Category                                            Message\n",
       "0      ham  Go until jurong point, crazy.. Available only ...\n",
       "1      ham                      Ok lar... Joking wif u oni...\n",
       "2     spam  Free entry in 2 a wkly comp to win FA Cup fina...\n",
       "3      ham  U dun say so early hor... U c already then say...\n",
       "4      ham  Nah I don't think he goes to usf, he lives aro..."
      ]
     },
     "execution_count": 2,
     "metadata": {},
     "output_type": "execute_result"
    }
   ],
   "source": [
    "df = pd.read_csv('spam-text-message-classification/SPAM text message 20170820 - Data.csv')\n",
    "df.head()"
   ]
  },
  {
   "cell_type": "code",
   "execution_count": 3,
   "metadata": {
    "execution": {
     "iopub.execute_input": "2020-11-23T13:20:37.658123Z",
     "iopub.status.busy": "2020-11-23T13:20:37.657464Z",
     "iopub.status.idle": "2020-11-23T13:20:37.662464Z",
     "shell.execute_reply": "2020-11-23T13:20:37.661573Z"
    },
    "papermill": {
     "duration": 0.045049,
     "end_time": "2020-11-23T13:20:37.662594",
     "exception": false,
     "start_time": "2020-11-23T13:20:37.617545",
     "status": "completed"
    },
    "tags": []
   },
   "outputs": [
    {
     "name": "stdout",
     "output_type": "stream",
     "text": [
      "<class 'pandas.core.frame.DataFrame'>\n",
      "RangeIndex: 5572 entries, 0 to 5571\n",
      "Data columns (total 2 columns):\n",
      " #   Column    Non-Null Count  Dtype \n",
      "---  ------    --------------  ----- \n",
      " 0   Category  5572 non-null   object\n",
      " 1   Message   5572 non-null   object\n",
      "dtypes: object(2)\n",
      "memory usage: 87.2+ KB\n"
     ]
    }
   ],
   "source": [
    "df.info()"
   ]
  },
  {
   "cell_type": "markdown",
   "metadata": {
    "papermill": {
     "duration": 0.025951,
     "end_time": "2020-11-23T13:20:37.714772",
     "exception": false,
     "start_time": "2020-11-23T13:20:37.688821",
     "status": "completed"
    },
    "tags": []
   },
   "source": [
    "# Exploratory Data Analysis"
   ]
  },
  {
   "cell_type": "code",
   "execution_count": 4,
   "metadata": {
    "execution": {
     "iopub.execute_input": "2020-11-23T13:20:37.774144Z",
     "iopub.status.busy": "2020-11-23T13:20:37.773310Z",
     "iopub.status.idle": "2020-11-23T13:20:37.973054Z",
     "shell.execute_reply": "2020-11-23T13:20:37.973613Z"
    },
    "papermill": {
     "duration": 0.232757,
     "end_time": "2020-11-23T13:20:37.973829",
     "exception": false,
     "start_time": "2020-11-23T13:20:37.741072",
     "status": "completed"
    },
    "tags": []
   },
   "outputs": [
    {
     "data": {
      "text/plain": [
       "<matplotlib.axes._subplots.AxesSubplot at 0x7fecf2b85250>"
      ]
     },
     "execution_count": 4,
     "metadata": {},
     "output_type": "execute_result"
    },
    {
     "data": {
      "image/png": "[encoded data removed]",
      "text/plain": [
       "<Figure size 432x288 with 1 Axes>"
      ]
     },
     "metadata": {
      "needs_background": "light"
     },
     "output_type": "display_data"
    }
   ],
   "source": [
    "sns.countplot(x='Category', data = df)"
   ]
  },
  {
   "cell_type": "code",
   "execution_count": 5,
   "metadata": {
    "execution": {
     "iopub.execute_input": "2020-11-23T13:20:38.048366Z",
     "iopub.status.busy": "2020-11-23T13:20:38.042632Z",
     "iopub.status.idle": "2020-11-23T13:20:38.514749Z",
     "shell.execute_reply": "2020-11-23T13:20:38.513973Z"
    },
    "papermill": {
     "duration": 0.511535,
     "end_time": "2020-11-23T13:20:38.514873",
     "exception": false,
     "start_time": "2020-11-23T13:20:38.003338",
     "status": "completed"
    },
    "tags": []
   },
   "outputs": [
    {
     "data": {
      "image/png": "[encoded data removed]",
      "text/plain": [
       "<Figure size 720x360 with 2 Axes>"
      ]
     },
     "metadata": {
      "needs_background": "light"
     },
     "output_type": "display_data"
    }
   ],
   "source": [
    "#length of a tweet\n",
    "fig,(ax1,ax2)=plt.subplots(1,2,figsize=(10,5))\n",
    "word=df[df['Category']=='ham']['Message'].str.split().map(lambda x : len(x))\n",
    "sns.distplot(word,ax=ax1,color='blue')\n",
    "ax1.set_title('ham')\n",
    "word=df[df['Category']=='spam']['Message'].str.split().map(lambda x : len(x))\n",
    "sns.distplot(word,ax=ax2,color='red')\n",
    "ax2.set_title('spam')\n",
    "fig.suptitle('Length of each tweet')\n",
    "plt.show()"
   ]
  },
  {
   "cell_type": "code",
   "execution_count": 6,
   "metadata": {
    "execution": {
     "iopub.execute_input": "2020-11-23T13:20:38.599049Z",
     "iopub.status.busy": "2020-11-23T13:20:38.588370Z",
     "iopub.status.idle": "2020-11-23T13:20:38.910115Z",
     "shell.execute_reply": "2020-11-23T13:20:38.909612Z"
    },
    "papermill": {
     "duration": 0.364034,
     "end_time": "2020-11-23T13:20:38.910223",
     "exception": false,
     "start_time": "2020-11-23T13:20:38.546189",
     "status": "completed"
    },
    "tags": []
   },
   "outputs": [
    {
     "data": {
      "image/png": "[encoded data removed]",
      "text/plain": [
       "<Figure size 864x432 with 1 Axes>"
      ]
     },
     "metadata": {
      "needs_background": "light"
     },
     "output_type": "display_data"
    }
   ],
   "source": [
    "#Displaying most common words\n",
    "df['temp_list'] = df['Message'].apply(lambda x : str(x).lower().split())\n",
    "fig, axes = plt.subplots(1, 1, figsize=(12, 6))\n",
    "from collections import Counter\n",
    "top = Counter([item for sublist in df['temp_list'] for item in sublist])\n",
    "temp = pd.DataFrame(top.most_common(25))\n",
    "temp.columns = ['Common_words', 'count']\n",
    "sns.barplot(x=temp['Common_words'], y=temp['count'], ax=axes)\n",
    "plt.show()"
   ]
  },
  {
   "cell_type": "code",
   "execution_count": 7,
   "metadata": {
    "execution": {
     "iopub.execute_input": "2020-11-23T13:20:38.975398Z",
     "iopub.status.busy": "2020-11-23T13:20:38.974810Z",
     "iopub.status.idle": "2020-11-23T13:20:40.031143Z",
     "shell.execute_reply": "2020-11-23T13:20:40.030568Z"
    },
    "papermill": {
     "duration": 1.091308,
     "end_time": "2020-11-23T13:20:40.031259",
     "exception": false,
     "start_time": "2020-11-23T13:20:38.939951",
     "status": "completed"
    },
    "tags": []
   },
   "outputs": [
    {
     "data": {
      "image/png": "[encoded data removed]",
      "text/plain": [
       "<Figure size 432x288 with 1 Axes>"
      ]
     },
     "metadata": {
      "needs_background": "light"
     },
     "output_type": "display_data"
    }
   ],
   "source": [
    "from wordcloud import WordCloud, STOPWORDS\n",
    "text = df['Message'].values\n",
    "cloud = WordCloud(stopwords = STOPWORDS,max_words = 200,).generate(\" \".join(text))\n",
    "plt.imshow(cloud)\n",
    "plt.axis('off')\n",
    "plt.show()"
   ]
  },
  {
   "cell_type": "code",
   "execution_count": 8,
   "metadata": {
    "execution": {
     "iopub.execute_input": "2020-11-23T13:20:40.100035Z",
     "iopub.status.busy": "2020-11-23T13:20:40.099408Z",
     "iopub.status.idle": "2020-11-23T13:20:40.103761Z",
     "shell.execute_reply": "2020-11-23T13:20:40.103205Z"
    },
    "papermill": {
     "duration": 0.040884,
     "end_time": "2020-11-23T13:20:40.103888",
     "exception": false,
     "start_time": "2020-11-23T13:20:40.063004",
     "status": "completed"
    },
    "tags": []
   },
   "outputs": [],
   "source": [
    "ps = PorterStemmer()"
   ]
  },
  {
   "cell_type": "markdown",
   "metadata": {
    "papermill": {
     "duration": 0.031467,
     "end_time": "2020-11-23T13:20:40.167752",
     "exception": false,
     "start_time": "2020-11-23T13:20:40.136285",
     "status": "completed"
    },
    "tags": []
   },
   "source": [
    "# Data Cleaning"
   ]
  },
  {
   "cell_type": "code",
   "execution_count": 9,
   "metadata": {
    "execution": {
     "iopub.execute_input": "2020-11-23T13:20:40.237449Z",
     "iopub.status.busy": "2020-11-23T13:20:40.236814Z",
     "iopub.status.idle": "2020-11-23T13:20:40.239880Z",
     "shell.execute_reply": "2020-11-23T13:20:40.239243Z"
    },
    "papermill": {
     "duration": 0.040364,
     "end_time": "2020-11-23T13:20:40.239985",
     "exception": false,
     "start_time": "2020-11-23T13:20:40.199621",
     "status": "completed"
    },
    "tags": []
   },
   "outputs": [],
   "source": [
    "def clean(text):\n",
    "    text = re.sub('[^a-zA-Z]', ' ', text).lower().split()\n",
    "    return text"
   ]
  },
  {
   "cell_type": "code",
   "execution_count": 10,
   "metadata": {
    "execution": {
     "iopub.execute_input": "2020-11-23T13:20:40.325606Z",
     "iopub.status.busy": "2020-11-23T13:20:40.315140Z",
     "iopub.status.idle": "2020-11-23T13:20:40.373605Z",
     "shell.execute_reply": "2020-11-23T13:20:40.373049Z"
    },
    "papermill": {
     "duration": 0.101487,
     "end_time": "2020-11-23T13:20:40.373720",
     "exception": false,
     "start_time": "2020-11-23T13:20:40.272233",
     "status": "completed"
    },
    "tags": []
   },
   "outputs": [],
   "source": [
    "df['Message'] = df['Message'].apply(lambda x : clean(x))"
   ]
  },
  {
   "cell_type": "code",
   "execution_count": 11,
   "metadata": {
    "execution": {
     "iopub.execute_input": "2020-11-23T13:20:40.445299Z",
     "iopub.status.busy": "2020-11-23T13:20:40.444313Z",
     "iopub.status.idle": "2020-11-23T13:20:40.447757Z",
     "shell.execute_reply": "2020-11-23T13:20:40.447063Z"
    },
    "papermill": {
     "duration": 0.041771,
     "end_time": "2020-11-23T13:20:40.447901",
     "exception": false,
     "start_time": "2020-11-23T13:20:40.406130",
     "status": "completed"
    },
    "tags": []
   },
   "outputs": [],
   "source": [
    "def stemming(text):\n",
    "    text = [ps.stem(word) for word in text if not word in stopwords.words('english')]\n",
    "    text = ' '.join(text)\n",
    "    return text"
   ]
  },
  {
   "cell_type": "code",
   "execution_count": 12,
   "metadata": {
    "execution": {
     "iopub.execute_input": "2020-11-23T13:20:40.550271Z",
     "iopub.status.busy": "2020-11-23T13:20:40.549439Z",
     "iopub.status.idle": "2020-11-23T13:20:54.945269Z",
     "shell.execute_reply": "2020-11-23T13:20:54.944646Z"
    },
    "papermill": {
     "duration": 14.449954,
     "end_time": "2020-11-23T13:20:54.945387",
     "exception": false,
     "start_time": "2020-11-23T13:20:40.495433",
     "status": "completed"
    },
    "tags": []
   },
   "outputs": [],
   "source": [
    "df['Message'] = df['Message'].apply(lambda x : stemming(x))"
   ]
  },
  {
   "cell_type": "code",
   "execution_count": 13,
   "metadata": {
    "execution": {
     "iopub.execute_input": "2020-11-23T13:20:55.016676Z",
     "iopub.status.busy": "2020-11-23T13:20:55.016002Z",
     "iopub.status.idle": "2020-11-23T13:20:55.019719Z",
     "shell.execute_reply": "2020-11-23T13:20:55.019163Z"
    },
    "papermill": {
     "duration": 0.041998,
     "end_time": "2020-11-23T13:20:55.019833",
     "exception": false,
     "start_time": "2020-11-23T13:20:54.977835",
     "status": "completed"
    },
    "tags": []
   },
   "outputs": [],
   "source": [
    "y = pd.get_dummies(df['Category'])"
   ]
  },
  {
   "cell_type": "code",
   "execution_count": 14,
   "metadata": {
    "execution": {
     "iopub.execute_input": "2020-11-23T13:20:55.094631Z",
     "iopub.status.busy": "2020-11-23T13:20:55.093928Z",
     "iopub.status.idle": "2020-11-23T13:20:55.098685Z",
     "shell.execute_reply": "2020-11-23T13:20:55.097973Z"
    },
    "papermill": {
     "duration": 0.046105,
     "end_time": "2020-11-23T13:20:55.098798",
     "exception": false,
     "start_time": "2020-11-23T13:20:55.052693",
     "status": "completed"
    },
    "tags": []
   },
   "outputs": [],
   "source": [
    "y=y.iloc[:,1].values"
   ]
  },
  {
   "cell_type": "code",
   "execution_count": 15,
   "metadata": {
    "execution": {
     "iopub.execute_input": "2020-11-23T13:20:55.171849Z",
     "iopub.status.busy": "2020-11-23T13:20:55.170980Z",
     "iopub.status.idle": "2020-11-23T13:20:55.177231Z",
     "shell.execute_reply": "2020-11-23T13:20:55.176686Z"
    },
    "papermill": {
     "duration": 0.045322,
     "end_time": "2020-11-23T13:20:55.177351",
     "exception": false,
     "start_time": "2020-11-23T13:20:55.132029",
     "status": "completed"
    },
    "tags": []
   },
   "outputs": [
    {
     "data": {
      "text/plain": [
       "array(['go jurong point crazi avail bugi n great world la e buffet cine got amor wat',\n",
       "       'ok lar joke wif u oni',\n",
       "       'free entri wkli comp win fa cup final tkt st may text fa receiv entri question std txt rate c appli',\n",
       "       ..., 'piti mood suggest',\n",
       "       'guy bitch act like interest buy someth els next week gave us free',\n",
       "       'rofl true name'], dtype=object)"
      ]
     },
     "execution_count": 15,
     "metadata": {},
     "output_type": "execute_result"
    }
   ],
   "source": [
    "X = df['Message'].values\n",
    "X"
   ]
  },
  {
   "cell_type": "markdown",
   "metadata": {
    "papermill": {
     "duration": 0.03332,
     "end_time": "2020-11-23T13:20:55.248301",
     "exception": false,
     "start_time": "2020-11-23T13:20:55.214981",
     "status": "completed"
    },
    "tags": []
   },
   "source": [
    "# Deep Learning Models"
   ]
  },
  {
   "cell_type": "code",
   "execution_count": 16,
   "metadata": {
    "execution": {
     "iopub.execute_input": "2020-11-23T13:20:55.321538Z",
     "iopub.status.busy": "2020-11-23T13:20:55.320813Z",
     "iopub.status.idle": "2020-11-23T13:20:55.323145Z",
     "shell.execute_reply": "2020-11-23T13:20:55.323642Z"
    },
    "papermill": {
     "duration": 0.041903,
     "end_time": "2020-11-23T13:20:55.323782",
     "exception": false,
     "start_time": "2020-11-23T13:20:55.281879",
     "status": "completed"
    },
    "tags": []
   },
   "outputs": [],
   "source": [
    "#Dictionary size\n",
    "vocab_size=5000"
   ]
  },
  {
   "cell_type": "code",
   "execution_count": 17,
   "metadata": {
    "execution": {
     "iopub.execute_input": "2020-11-23T13:20:55.396377Z",
     "iopub.status.busy": "2020-11-23T13:20:55.395791Z",
     "iopub.status.idle": "2020-11-23T13:20:55.398376Z",
     "shell.execute_reply": "2020-11-23T13:20:55.399006Z"
    },
    "papermill": {
     "duration": 0.041664,
     "end_time": "2020-11-23T13:20:55.399139",
     "exception": false,
     "start_time": "2020-11-23T13:20:55.357475",
     "status": "completed"
    },
    "tags": []
   },
   "outputs": [],
   "source": [
    "epochs = 5 #Train for 20 epochs for better accuracy\n",
    "batch_size = 32"
   ]
  },
  {
   "cell_type": "code",
   "execution_count": 18,
   "metadata": {
    "execution": {
     "iopub.execute_input": "2020-11-23T13:20:55.490471Z",
     "iopub.status.busy": "2020-11-23T13:20:55.480105Z",
     "iopub.status.idle": "2020-11-23T13:20:55.617358Z",
     "shell.execute_reply": "2020-11-23T13:20:55.616710Z"
    },
    "papermill": {
     "duration": 0.184544,
     "end_time": "2020-11-23T13:20:55.617466",
     "exception": false,
     "start_time": "2020-11-23T13:20:55.432922",
     "status": "completed"
    },
    "tags": []
   },
   "outputs": [],
   "source": [
    "encoded_docs = [one_hot(word, vocab_size) for word in X]"
   ]
  },
  {
   "cell_type": "code",
   "execution_count": 19,
   "metadata": {
    "execution": {
     "iopub.execute_input": "2020-11-23T13:20:55.692193Z",
     "iopub.status.busy": "2020-11-23T13:20:55.691266Z",
     "iopub.status.idle": "2020-11-23T13:20:55.743241Z",
     "shell.execute_reply": "2020-11-23T13:20:55.742722Z"
    },
    "papermill": {
     "duration": 0.0926,
     "end_time": "2020-11-23T13:20:55.743365",
     "exception": false,
     "start_time": "2020-11-23T13:20:55.650765",
     "status": "completed"
    },
    "tags": []
   },
   "outputs": [],
   "source": [
    "max_len = len(X.max())\n",
    "pad_docs = pad_sequences(encoded_docs, maxlen = max_len, padding='post')"
   ]
  },
  {
   "cell_type": "code",
   "execution_count": 20,
   "metadata": {
    "execution": {
     "iopub.execute_input": "2020-11-23T13:20:55.818286Z",
     "iopub.status.busy": "2020-11-23T13:20:55.817612Z",
     "iopub.status.idle": "2020-11-23T13:20:55.822483Z",
     "shell.execute_reply": "2020-11-23T13:20:55.821888Z"
    },
    "papermill": {
     "duration": 0.045558,
     "end_time": "2020-11-23T13:20:55.822612",
     "exception": false,
     "start_time": "2020-11-23T13:20:55.777054",
     "status": "completed"
    },
    "tags": []
   },
   "outputs": [],
   "source": [
    "X_train, X_test, y_train, y_test = train_test_split(pad_docs, y, test_size = 0.20, random_state=3) "
   ]
  },
  {
   "cell_type": "markdown",
   "metadata": {
    "papermill": {
     "duration": 0.033244,
     "end_time": "2020-11-23T13:20:55.889949",
     "exception": false,
     "start_time": "2020-11-23T13:20:55.856705",
     "status": "completed"
    },
    "tags": []
   },
   "source": [
    "## Simple RNN Model"
   ]
  },
  {
   "cell_type": "code",
   "execution_count": 21,
   "metadata": {
    "execution": {
     "iopub.execute_input": "2020-11-23T13:20:55.967813Z",
     "iopub.status.busy": "2020-11-23T13:20:55.965774Z",
     "iopub.status.idle": "2020-11-23T13:20:56.411357Z",
     "shell.execute_reply": "2020-11-23T13:20:56.410689Z"
    },
    "papermill": {
     "duration": 0.48788,
     "end_time": "2020-11-23T13:20:56.411468",
     "exception": false,
     "start_time": "2020-11-23T13:20:55.923588",
     "status": "completed"
    },
    "tags": []
   },
   "outputs": [],
   "source": [
    "model1 = Sequential()\n",
    "model1.add(Embedding(vocab_size, 100, input_length = max_len))\n",
    "model1.add(Dropout(0.2))\n",
    "model1.add(SimpleRNN(100, return_sequences=True))\n",
    "model1.add(Dropout(0.2))\n",
    "model1.add(SimpleRNN(100, return_sequences=True))\n",
    "#model1.add(Flatten())\n",
    "model1.add(Dense(1024, activation='relu'))\n",
    "model1.add(Dropout(0.2))\n",
    "model1.add(Dense(1024, activation='relu'))\n",
    "model1.add(Dropout(0.2))\n",
    "model1.add(Dense(1, activation='sigmoid'))"
   ]
  },
  {
   "cell_type": "code",
   "execution_count": 22,
   "metadata": {
    "execution": {
     "iopub.execute_input": "2020-11-23T13:20:56.490722Z",
     "iopub.status.busy": "2020-11-23T13:20:56.489908Z",
     "iopub.status.idle": "2020-11-23T13:20:56.495931Z",
     "shell.execute_reply": "2020-11-23T13:20:56.496746Z"
    },
    "papermill": {
     "duration": 0.049917,
     "end_time": "2020-11-23T13:20:56.496954",
     "exception": false,
     "start_time": "2020-11-23T13:20:56.447037",
     "status": "completed"
    },
    "tags": []
   },
   "outputs": [
    {
     "name": "stdout",
     "output_type": "stream",
     "text": [
      "Model: \"sequential\"\n",
      "_________________________________________________________________\n",
      "Layer (type)                 Output Shape              Param #   \n",
      "=================================================================\n",
      "embedding (Embedding)        (None, 73, 100)           500000    \n",
      "_________________________________________________________________\n",
      "dropout (Dropout)            (None, 73, 100)           0         \n",
      "_________________________________________________________________\n",
      "simple_rnn (SimpleRNN)       (None, 73, 100)           20100     \n",
      "_________________________________________________________________\n",
      "dropout_1 (Dropout)          (None, 73, 100)           0         \n",
      "_________________________________________________________________\n",
      "simple_rnn_1 (SimpleRNN)     (None, 73, 100)           20100     \n",
      "_________________________________________________________________\n",
      "dense (Dense)                (None, 73, 1024)          103424    \n",
      "_________________________________________________________________\n",
      "dropout_2 (Dropout)          (None, 73, 1024)          0         \n",
      "_________________________________________________________________\n",
      "dense_1 (Dense)              (None, 73, 1024)          1049600   \n",
      "_________________________________________________________________\n",
      "dropout_3 (Dropout)          (None, 73, 1024)          0         \n",
      "_________________________________________________________________\n",
      "dense_2 (Dense)              (None, 73, 1)             1025      \n",
      "=================================================================\n",
      "Total params: 1,694,249\n",
      "Trainable params: 1,694,249\n",
      "Non-trainable params: 0\n",
      "_________________________________________________________________\n"
     ]
    }
   ],
   "source": [
    "model1.summary()"
   ]
  },
  {
   "cell_type": "code",
   "execution_count": 23,
   "metadata": {
    "execution": {
     "iopub.execute_input": "2020-11-23T13:20:56.578588Z",
     "iopub.status.busy": "2020-11-23T13:20:56.575772Z",
     "iopub.status.idle": "2020-11-23T13:20:56.586670Z",
     "shell.execute_reply": "2020-11-23T13:20:56.586051Z"
    },
    "papermill": {
     "duration": 0.054855,
     "end_time": "2020-11-23T13:20:56.586769",
     "exception": false,
     "start_time": "2020-11-23T13:20:56.531914",
     "status": "completed"
    },
    "tags": []
   },
   "outputs": [],
   "source": [
    "model1.compile(optimizer='Adam', loss = 'binary_crossentropy', metrics=['acc'])"
   ]
  },
  {
   "cell_type": "code",
   "execution_count": 24,
   "metadata": {
    "execution": {
     "iopub.execute_input": "2020-11-23T13:20:56.661210Z",
     "iopub.status.busy": "2020-11-23T13:20:56.660617Z",
     "iopub.status.idle": "2020-11-23T13:23:42.745212Z",
     "shell.execute_reply": "2020-11-23T13:23:42.744623Z"
    },
    "papermill": {
     "duration": 166.124453,
     "end_time": "2020-11-23T13:23:42.745316",
     "exception": false,
     "start_time": "2020-11-23T13:20:56.620863",
     "status": "completed"
    },
    "tags": []
   },
   "outputs": [
    {
     "name": "stdout",
     "output_type": "stream",
     "text": [
      "Epoch 1/5\n",
      "140/140 [==============================] - 33s 236ms/step - loss: 0.3076 - acc: 0.8951 - val_loss: 0.1725 - val_acc: 0.9582\n",
      "Epoch 2/5\n",
      "140/140 [==============================] - 33s 235ms/step - loss: 0.1634 - acc: 0.9594 - val_loss: 0.1601 - val_acc: 0.9604\n",
      "Epoch 3/5\n",
      "140/140 [==============================] - 32s 229ms/step - loss: 0.1646 - acc: 0.9528 - val_loss: 0.2523 - val_acc: 0.8610\n",
      "Epoch 4/5\n",
      "140/140 [==============================] - 33s 233ms/step - loss: 0.1589 - acc: 0.9353 - val_loss: 0.1815 - val_acc: 0.9435\n",
      "Epoch 5/5\n",
      "140/140 [==============================] - 32s 229ms/step - loss: 0.0907 - acc: 0.9800 - val_loss: 0.1953 - val_acc: 0.9568\n"
     ]
    },
    {
     "data": {
      "text/plain": [
       "<tensorflow.python.keras.callbacks.History at 0x7fecf11bbb10>"
      ]
     },
     "execution_count": 24,
     "metadata": {},
     "output_type": "execute_result"
    }
   ],
   "source": [
    "model1.fit(X_train, y_train, validation_data=(X_test, y_test), epochs=epochs, batch_size=batch_size)"
   ]
  },
  {
   "cell_type": "markdown",
   "metadata": {
    "papermill": {
     "duration": 0.276848,
     "end_time": "2020-11-23T13:23:43.306791",
     "exception": false,
     "start_time": "2020-11-23T13:23:43.029943",
     "status": "completed"
    },
    "tags": []
   },
   "source": [
    "## LSTM Model"
   ]
  },
  {
   "cell_type": "code",
   "execution_count": 25,
   "metadata": {
    "execution": {
     "iopub.execute_input": "2020-11-23T13:23:44.132031Z",
     "iopub.status.busy": "2020-11-23T13:23:44.131057Z",
     "iopub.status.idle": "2020-11-23T13:23:44.739303Z",
     "shell.execute_reply": "2020-11-23T13:23:44.738763Z"
    },
    "papermill": {
     "duration": 1.041307,
     "end_time": "2020-11-23T13:23:44.739419",
     "exception": false,
     "start_time": "2020-11-23T13:23:43.698112",
     "status": "completed"
    },
    "tags": []
   },
   "outputs": [],
   "source": [
    "model2 = Sequential()\n",
    "model2.add(Embedding(vocab_size, 100, input_length = max_len))\n",
    "model2.add(Dropout(0.2))\n",
    "model2.add(LSTM(100, return_sequences = True))\n",
    "model2.add(Dropout(0.2))\n",
    "model2.add(LSTM(100, return_sequences = True))\n",
    "#model2.add(Flatten())\n",
    "model2.add(Dense(1024, activation='relu'))\n",
    "model2.add(Dropout(0.2))\n",
    "model2.add(Dense(1024, activation='relu'))\n",
    "model2.add(Dropout(0.2))\n",
    "model2.add(Dense(1, activation='sigmoid'))"
   ]
  },
  {
   "cell_type": "code",
   "execution_count": 26,
   "metadata": {
    "execution": {
     "iopub.execute_input": "2020-11-23T13:23:45.308110Z",
     "iopub.status.busy": "2020-11-23T13:23:45.307481Z",
     "iopub.status.idle": "2020-11-23T13:23:45.316711Z",
     "shell.execute_reply": "2020-11-23T13:23:45.315777Z"
    },
    "papermill": {
     "duration": 0.298434,
     "end_time": "2020-11-23T13:23:45.316873",
     "exception": false,
     "start_time": "2020-11-23T13:23:45.018439",
     "status": "completed"
    },
    "tags": []
   },
   "outputs": [
    {
     "name": "stdout",
     "output_type": "stream",
     "text": [
      "Model: \"sequential_1\"\n",
      "_________________________________________________________________\n",
      "Layer (type)                 Output Shape              Param #   \n",
      "=================================================================\n",
      "embedding_1 (Embedding)      (None, 73, 100)           500000    \n",
      "_________________________________________________________________\n",
      "dropout_4 (Dropout)          (None, 73, 100)           0         \n",
      "_________________________________________________________________\n",
      "lstm (LSTM)                  (None, 73, 100)           80400     \n",
      "_________________________________________________________________\n",
      "dropout_5 (Dropout)          (None, 73, 100)           0         \n",
      "_________________________________________________________________\n",
      "lstm_1 (LSTM)                (None, 73, 100)           80400     \n",
      "_________________________________________________________________\n",
      "dense_3 (Dense)              (None, 73, 1024)          103424    \n",
      "_________________________________________________________________\n",
      "dropout_6 (Dropout)          (None, 73, 1024)          0         \n",
      "_________________________________________________________________\n",
      "dense_4 (Dense)              (None, 73, 1024)          1049600   \n",
      "_________________________________________________________________\n",
      "dropout_7 (Dropout)          (None, 73, 1024)          0         \n",
      "_________________________________________________________________\n",
      "dense_5 (Dense)              (None, 73, 1)             1025      \n",
      "=================================================================\n",
      "Total params: 1,814,849\n",
      "Trainable params: 1,814,849\n",
      "Non-trainable params: 0\n",
      "_________________________________________________________________\n"
     ]
    }
   ],
   "source": [
    "model2.summary()"
   ]
  },
  {
   "cell_type": "code",
   "execution_count": 27,
   "metadata": {
    "execution": {
     "iopub.execute_input": "2020-11-23T13:23:46.175077Z",
     "iopub.status.busy": "2020-11-23T13:23:46.174167Z",
     "iopub.status.idle": "2020-11-23T13:23:46.181812Z",
     "shell.execute_reply": "2020-11-23T13:23:46.181080Z"
    },
    "papermill": {
     "duration": 0.442037,
     "end_time": "2020-11-23T13:23:46.181954",
     "exception": false,
     "start_time": "2020-11-23T13:23:45.739917",
     "status": "completed"
    },
    "tags": []
   },
   "outputs": [],
   "source": [
    "model2.compile(optimizer='Adam', loss='binary_crossentropy', metrics=['acc'])"
   ]
  },
  {
   "cell_type": "code",
   "execution_count": 28,
   "metadata": {
    "execution": {
     "iopub.execute_input": "2020-11-23T13:23:47.031488Z",
     "iopub.status.busy": "2020-11-23T13:23:47.030412Z",
     "iopub.status.idle": "2020-11-23T13:27:27.761689Z",
     "shell.execute_reply": "2020-11-23T13:27:27.761085Z"
    },
    "papermill": {
     "duration": 221.15803,
     "end_time": "2020-11-23T13:27:27.761813",
     "exception": false,
     "start_time": "2020-11-23T13:23:46.603783",
     "status": "completed"
    },
    "tags": []
   },
   "outputs": [
    {
     "name": "stdout",
     "output_type": "stream",
     "text": [
      "Epoch 1/5\n",
      "140/140 [==============================] - 45s 318ms/step - loss: 0.2806 - acc: 0.9209 - val_loss: 0.1012 - val_acc: 0.9788\n",
      "Epoch 2/5\n",
      "140/140 [==============================] - 42s 303ms/step - loss: 0.0713 - acc: 0.9845 - val_loss: 0.0741 - val_acc: 0.9834\n",
      "Epoch 3/5\n",
      "140/140 [==============================] - 42s 303ms/step - loss: 0.0572 - acc: 0.9877 - val_loss: 0.0984 - val_acc: 0.9794\n",
      "Epoch 4/5\n",
      "140/140 [==============================] - 43s 304ms/step - loss: 0.0432 - acc: 0.9900 - val_loss: 0.1377 - val_acc: 0.9812\n",
      "Epoch 5/5\n",
      "140/140 [==============================] - 43s 305ms/step - loss: 0.0251 - acc: 0.9932 - val_loss: 0.1515 - val_acc: 0.9760\n"
     ]
    },
    {
     "data": {
      "text/plain": [
       "<tensorflow.python.keras.callbacks.History at 0x7fecf0dc5650>"
      ]
     },
     "execution_count": 28,
     "metadata": {},
     "output_type": "execute_result"
    }
   ],
   "source": [
    "model2.fit(X_train, y_train, validation_data=(X_test, y_test), epochs=5, batch_size=32)"
   ]
  },
  {
   "cell_type": "markdown",
   "metadata": {
    "papermill": {
     "duration": 0.524254,
     "end_time": "2020-11-23T13:27:28.815596",
     "exception": false,
     "start_time": "2020-11-23T13:27:28.291342",
     "status": "completed"
    },
    "tags": []
   },
   "source": [
    "## Bidirectional RNN Model"
   ]
  },
  {
   "cell_type": "code",
   "execution_count": 29,
   "metadata": {
    "execution": {
     "iopub.execute_input": "2020-11-23T13:27:29.943773Z",
     "iopub.status.busy": "2020-11-23T13:27:29.942835Z",
     "iopub.status.idle": "2020-11-23T13:27:31.200704Z",
     "shell.execute_reply": "2020-11-23T13:27:31.201347Z"
    },
    "papermill": {
     "duration": 1.855602,
     "end_time": "2020-11-23T13:27:31.201552",
     "exception": false,
     "start_time": "2020-11-23T13:27:29.345950",
     "status": "completed"
    },
    "tags": []
   },
   "outputs": [],
   "source": [
    "model3 = Sequential()\n",
    "model3.add(Embedding(vocab_size, 100, input_length = max_len))\n",
    "model3.add(Dropout(0.2))\n",
    "model3.add(Bidirectional(LSTM(100, return_sequences = True)))\n",
    "model3.add(Dropout(0.2))\n",
    "model3.add(Bidirectional(LSTM(100, return_sequences = True)))\n",
    "model3.add(Dense(1024, activation='relu'))\n",
    "model3.add(Dropout(0.2))\n",
    "model3.add(Dense(1024, activation='relu'))\n",
    "model3.add(Dropout(0.2))\n",
    "model3.add(Dense(1, activation='sigmoid'))"
   ]
  },
  {
   "cell_type": "code",
   "execution_count": 30,
   "metadata": {
    "execution": {
     "iopub.execute_input": "2020-11-23T13:27:32.666790Z",
     "iopub.status.busy": "2020-11-23T13:27:32.663258Z",
     "iopub.status.idle": "2020-11-23T13:27:32.678067Z",
     "shell.execute_reply": "2020-11-23T13:27:32.677349Z"
    },
    "papermill": {
     "duration": 0.655294,
     "end_time": "2020-11-23T13:27:32.678223",
     "exception": false,
     "start_time": "2020-11-23T13:27:32.022929",
     "status": "completed"
    },
    "tags": []
   },
   "outputs": [
    {
     "name": "stdout",
     "output_type": "stream",
     "text": [
      "Model: \"sequential_2\"\n",
      "_________________________________________________________________\n",
      "Layer (type)                 Output Shape              Param #   \n",
      "=================================================================\n",
      "embedding_2 (Embedding)      (None, 73, 100)           500000    \n",
      "_________________________________________________________________\n",
      "dropout_8 (Dropout)          (None, 73, 100)           0         \n",
      "_________________________________________________________________\n",
      "bidirectional (Bidirectional (None, 73, 200)           160800    \n",
      "_________________________________________________________________\n",
      "dropout_9 (Dropout)          (None, 73, 200)           0         \n",
      "_________________________________________________________________\n",
      "bidirectional_1 (Bidirection (None, 73, 200)           240800    \n",
      "_________________________________________________________________\n",
      "dense_6 (Dense)              (None, 73, 1024)          205824    \n",
      "_________________________________________________________________\n",
      "dropout_10 (Dropout)         (None, 73, 1024)          0         \n",
      "_________________________________________________________________\n",
      "dense_7 (Dense)              (None, 73, 1024)          1049600   \n",
      "_________________________________________________________________\n",
      "dropout_11 (Dropout)         (None, 73, 1024)          0         \n",
      "_________________________________________________________________\n",
      "dense_8 (Dense)              (None, 73, 1)             1025      \n",
      "=================================================================\n",
      "Total params: 2,158,049\n",
      "Trainable params: 2,158,049\n",
      "Non-trainable params: 0\n",
      "_________________________________________________________________\n"
     ]
    }
   ],
   "source": [
    "model3.summary()"
   ]
  },
  {
   "cell_type": "code",
   "execution_count": 31,
   "metadata": {
    "execution": {
     "iopub.execute_input": "2020-11-23T13:27:33.763288Z",
     "iopub.status.busy": "2020-11-23T13:27:33.761813Z",
     "iopub.status.idle": "2020-11-23T13:27:33.767786Z",
     "shell.execute_reply": "2020-11-23T13:27:33.766831Z"
    },
    "papermill": {
     "duration": 0.551836,
     "end_time": "2020-11-23T13:27:33.768022",
     "exception": false,
     "start_time": "2020-11-23T13:27:33.216186",
     "status": "completed"
    },
    "tags": []
   },
   "outputs": [],
   "source": [
    "model3.compile(optimizer='Adam', loss='binary_crossentropy', metrics=['acc'])"
   ]
  },
  {
   "cell_type": "code",
   "execution_count": 32,
   "metadata": {
    "execution": {
     "iopub.execute_input": "2020-11-23T13:27:34.825252Z",
     "iopub.status.busy": "2020-11-23T13:27:34.824449Z",
     "iopub.status.idle": "2020-11-23T13:32:02.450620Z",
     "shell.execute_reply": "2020-11-23T13:32:02.449913Z"
    },
    "papermill": {
     "duration": 268.155466,
     "end_time": "2020-11-23T13:32:02.450731",
     "exception": false,
     "start_time": "2020-11-23T13:27:34.295265",
     "status": "completed"
    },
    "tags": []
   },
   "outputs": [
    {
     "name": "stdout",
     "output_type": "stream",
     "text": [
      "Epoch 1/5\n",
      "140/140 [==============================] - 53s 377ms/step - loss: 0.2579 - acc: 0.9160 - val_loss: 0.1529 - val_acc: 0.9353\n",
      "Epoch 2/5\n",
      "140/140 [==============================] - 52s 371ms/step - loss: 0.1374 - acc: 0.9491 - val_loss: 0.0554 - val_acc: 0.9863\n",
      "Epoch 3/5\n",
      "140/140 [==============================] - 52s 370ms/step - loss: 0.0312 - acc: 0.9919 - val_loss: 0.1095 - val_acc: 0.9795\n",
      "Epoch 4/5\n",
      "140/140 [==============================] - 52s 368ms/step - loss: 0.0176 - acc: 0.9962 - val_loss: 0.0759 - val_acc: 0.9871\n",
      "Epoch 5/5\n",
      "140/140 [==============================] - 51s 368ms/step - loss: 0.0170 - acc: 0.9973 - val_loss: 0.0903 - val_acc: 0.9857\n"
     ]
    },
    {
     "data": {
      "text/plain": [
       "<tensorflow.python.keras.callbacks.History at 0x7fecb1d11290>"
      ]
     },
     "execution_count": 32,
     "metadata": {},
     "output_type": "execute_result"
    }
   ],
   "source": [
    "model3.fit(X_train, y_train, validation_data=(X_test, y_test), epochs=5, batch_size=32)"
   ]
  }
 ],
 "metadata": {
  "kernelspec": {
   "display_name": "Python 3",
   "language": "python",
   "name": "python3"
  },
  "language_info": {
   "codemirror_mode": {
    "name": "ipython",
    "version": 3
   },
   "file_extension": ".py",
   "mimetype": "text/x-python",
   "name": "python",
   "nbconvert_exporter": "python",
   "pygments_lexer": "ipython3",
   "version": "3.7.6"
  },
  "papermill": {
   "duration": 699.971545,
   "end_time": "2020-11-23T13:32:03.333093",
   "environment_variables": {},
   "exception": null,
   "input_path": "__notebook__.ipynb",
   "output_path": "__notebook__.ipynb",
   "parameters": {},
   "start_time": "2020-11-23T13:20:23.361548",
   "version": "2.1.0"
  }
 },
 "nbformat": 4,
 "nbformat_minor": 4
}
