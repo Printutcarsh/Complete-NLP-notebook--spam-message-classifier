{
 "cells": [
  {
   "cell_type": "markdown",
   "metadata": {
    "papermill": {
     "duration": 0.055912,
     "end_time": "2020-11-24T20:32:39.125733",
     "exception": false,
     "start_time": "2020-11-24T20:32:39.069821",
     "status": "completed"
    },
    "tags": []
   },
   "source": [
    "# Introduction\n",
    "In this kernel I will go through alomst all the machine learning and deep learning ways to complete any NLP task. Here I will be using spam classifier example in which we have to determine whether the message is spam or not.<br>\n",
    "This notebook will be a helpful guide for all the beginners who have not much expereince in the NLP problems. I have used several different machine learning algoriths and deep learning models so that you can get to know about each of them. But before diving into it, I will also go through some EDA and data preprocessing steps.  "
   ]
  },
  {
   "cell_type": "markdown",
   "metadata": {
    "papermill": {
     "duration": 0.055671,
     "end_time": "2020-11-24T20:32:39.235629",
     "exception": false,
     "start_time": "2020-11-24T20:32:39.179958",
     "status": "completed"
    },
    "tags": []
   },
   "source": [
    "# Table of Contents\n",
    "<ul>\n",
    "    <li>Importing Libraries</li>\n",
    "    <li>Reading the data</li>\n",
    "    <li>Exploratory Data Analysis</li>\n",
    "    <li>Data Cleaning</li>\n",
    "    <li>Machine Learning Way</li>\n",
    "    <ul>\n",
    "        <li>Naive Bayes</li>\n",
    "        <li>Logistic Regression</li>\n",
    "        <li>KNN Classifier</li>\n",
    "    </ul>\n",
    "    <li>Deep Learning Way</li>\n",
    "    <ul>\n",
    "        <li>Simple RNN</li>\n",
    "        <li>LSTM</li>\n",
    "        <li>Bidirectional RNN</li>\n",
    "    </ul>\n",
    "    <li>Summary</li>\n",
    "</ul>"
   ]
  },
  {
   "cell_type": "markdown",
   "metadata": {
    "papermill": {
     "duration": 0.052463,
     "end_time": "2020-11-24T20:32:39.340673",
     "exception": false,
     "start_time": "2020-11-24T20:32:39.288210",
     "status": "completed"
    },
    "tags": []
   },
   "source": [
    "# Importing Libraries"
   ]
  },
  {
   "cell_type": "code",
   "execution_count": 1,
   "metadata": {
    "_cell_guid": "b1076dfc-b9ad-4769-8c92-a6c4dae69d19",
    "_uuid": "8f2839f25d086af736a60e9eeb907d3b93b6e0e5",
    "execution": {
     "iopub.execute_input": "2020-11-24T20:32:39.460176Z",
     "iopub.status.busy": "2020-11-24T20:32:39.459300Z",
     "iopub.status.idle": "2020-11-24T20:32:46.422410Z",
     "shell.execute_reply": "2020-11-24T20:32:46.421501Z"
    },
    "papermill": {
     "duration": 7.029122,
     "end_time": "2020-11-24T20:32:46.422543",
     "exception": false,
     "start_time": "2020-11-24T20:32:39.393421",
     "status": "completed"
    },
    "tags": []
   },
   "outputs": [],
   "source": [
    "import numpy as np\n",
    "import pandas as pd \n",
    "import re\n",
    "import nltk\n",
    "from nltk.corpus import stopwords\n",
    "from nltk.stem.porter import PorterStemmer\n",
    "import matplotlib.pyplot as plt\n",
    "import seaborn as sns\n",
    "%matplotlib inline\n",
    "from sklearn.model_selection import train_test_split\n",
    "from sklearn.metrics import accuracy_score\n",
    "\n",
    "from sklearn.feature_extraction.text import CountVectorizer\n",
    "from sklearn.feature_extraction.text import TfidfVectorizer\n",
    "from sklearn.naive_bayes import MultinomialNB\n",
    "from sklearn.linear_model import LogisticRegression\n",
    "from sklearn.neighbors import KNeighborsClassifier\n",
    "from sklearn.model_selection import GridSearchCV\n",
    "\n",
    "from keras.preprocessing.text import one_hot\n",
    "from keras.preprocessing.sequence import pad_sequences\n",
    "from keras.models import Sequential\n",
    "from keras.layers import Dense, Embedding, LSTM, Flatten, Dropout, SimpleRNN, Bidirectional\n",
    "from keras.optimizers import Adam"
   ]
  },
  {
   "cell_type": "markdown",
   "metadata": {
    "papermill": {
     "duration": 0.052429,
     "end_time": "2020-11-24T20:32:46.528876",
     "exception": false,
     "start_time": "2020-11-24T20:32:46.476447",
     "status": "completed"
    },
    "tags": []
   },
   "source": [
    "# Reading the data"
   ]
  },
  {
   "cell_type": "code",
   "execution_count": 2,
   "metadata": {
    "_cell_guid": "79c7e3d0-c299-4dcb-8224-4455121ee9b0",
    "_uuid": "d629ff2d2480ee46fbb7e2d37f6b5fab8052498a",
    "execution": {
     "iopub.execute_input": "2020-11-24T20:32:46.653122Z",
     "iopub.status.busy": "2020-11-24T20:32:46.652444Z",
     "iopub.status.idle": "2020-11-24T20:32:46.695107Z",
     "shell.execute_reply": "2020-11-24T20:32:46.695707Z"
    },
    "papermill": {
     "duration": 0.11433,
     "end_time": "2020-11-24T20:32:46.695849",
     "exception": false,
     "start_time": "2020-11-24T20:32:46.581519",
     "status": "completed"
    },
    "tags": []
   },
   "outputs": [
    {
     "data": {
      "text/html": [
       "<div>\n",
       "<style scoped>\n",
       "    .dataframe tbody tr th:only-of-type {\n",
       "        vertical-align: middle;\n",
       "    }\n",
       "\n",
       "    .dataframe tbody tr th {\n",
       "        vertical-align: top;\n",
       "    }\n",
       "\n",
       "    .dataframe thead th {\n",
       "        text-align: right;\n",
       "    }\n",
       "</style>\n",
       "<table border=\"1\" class=\"dataframe\">\n",
       "  <thead>\n",
       "    <tr style=\"text-align: right;\">\n",
       "      <th></th>\n",
       "      <th>Category</th>\n",
       "      <th>Message</th>\n",
       "    </tr>\n",
       "  </thead>\n",
       "  <tbody>\n",
       "    <tr>\n",
       "      <th>0</th>\n",
       "      <td>ham</td>\n",
       "      <td>Go until jurong point, crazy.. Available only ...</td>\n",
       "    </tr>\n",
       "    <tr>\n",
       "      <th>1</th>\n",
       "      <td>ham</td>\n",
       "      <td>Ok lar... Joking wif u oni...</td>\n",
       "    </tr>\n",
       "    <tr>\n",
       "      <th>2</th>\n",
       "      <td>spam</td>\n",
       "      <td>Free entry in 2 a wkly comp to win FA Cup fina...</td>\n",
       "    </tr>\n",
       "    <tr>\n",
       "      <th>3</th>\n",
       "      <td>ham</td>\n",
       "      <td>U dun say so early hor... U c already then say...</td>\n",
       "    </tr>\n",
       "    <tr>\n",
       "      <th>4</th>\n",
       "      <td>ham</td>\n",
       "      <td>Nah I don't think he goes to usf, he lives aro...</td>\n",
       "    </tr>\n",
       "  </tbody>\n",
       "</table>\n",
       "</div>"
      ],
      "text/plain": [
       "  Category                                            Message\n",
       "0      ham  Go until jurong point, crazy.. Available only ...\n",
       "1      ham                      Ok lar... Joking wif u oni...\n",
       "2     spam  Free entry in 2 a wkly comp to win FA Cup fina...\n",
       "3      ham  U dun say so early hor... U c already then say...\n",
       "4      ham  Nah I don't think he goes to usf, he lives aro..."
      ]
     },
     "execution_count": 2,
     "metadata": {},
     "output_type": "execute_result"
    }
   ],
   "source": [
    "df = pd.read_csv('spam-text-message-classification/SPAM text message 20170820 - Data.csv')\n",
    "df.head()"
   ]
  },
  {
   "cell_type": "code",
   "execution_count": 3,
   "metadata": {
    "execution": {
     "iopub.execute_input": "2020-11-24T20:32:46.822253Z",
     "iopub.status.busy": "2020-11-24T20:32:46.821396Z",
     "iopub.status.idle": "2020-11-24T20:32:46.828711Z",
     "shell.execute_reply": "2020-11-24T20:32:46.829350Z"
    },
    "papermill": {
     "duration": 0.075822,
     "end_time": "2020-11-24T20:32:46.829491",
     "exception": false,
     "start_time": "2020-11-24T20:32:46.753669",
     "status": "completed"
    },
    "tags": []
   },
   "outputs": [
    {
     "name": "stdout",
     "output_type": "stream",
     "text": [
      "<class 'pandas.core.frame.DataFrame'>\n",
      "RangeIndex: 5572 entries, 0 to 5571\n",
      "Data columns (total 2 columns):\n",
      " #   Column    Non-Null Count  Dtype \n",
      "---  ------    --------------  ----- \n",
      " 0   Category  5572 non-null   object\n",
      " 1   Message   5572 non-null   object\n",
      "dtypes: object(2)\n",
      "memory usage: 87.2+ KB\n"
     ]
    }
   ],
   "source": [
    "df.info()"
   ]
  },
  {
   "cell_type": "markdown",
   "metadata": {
    "papermill": {
     "duration": 0.056606,
     "end_time": "2020-11-24T20:32:46.942354",
     "exception": false,
     "start_time": "2020-11-24T20:32:46.885748",
     "status": "completed"
    },
    "tags": []
   },
   "source": [
    "# Exploratory Data Analysis"
   ]
  },
  {
   "cell_type": "markdown",
   "metadata": {
    "papermill": {
     "duration": 0.052825,
     "end_time": "2020-11-24T20:32:47.050003",
     "exception": false,
     "start_time": "2020-11-24T20:32:46.997178",
     "status": "completed"
    },
    "tags": []
   },
   "source": [
    "### Let's see how many messages are spam and not spam"
   ]
  },
  {
   "cell_type": "code",
   "execution_count": 4,
   "metadata": {
    "execution": {
     "iopub.execute_input": "2020-11-24T20:32:47.171868Z",
     "iopub.status.busy": "2020-11-24T20:32:47.170868Z",
     "iopub.status.idle": "2020-11-24T20:32:47.342200Z",
     "shell.execute_reply": "2020-11-24T20:32:47.341614Z"
    },
    "papermill": {
     "duration": 0.235877,
     "end_time": "2020-11-24T20:32:47.342337",
     "exception": false,
     "start_time": "2020-11-24T20:32:47.106460",
     "status": "completed"
    },
    "tags": []
   },
   "outputs": [
    {
     "data": {
      "text/plain": [
       "<matplotlib.axes._subplots.AxesSubplot at 0x7f284776b650>"
      ]
     },
     "execution_count": 4,
     "metadata": {},
     "output_type": "execute_result"
    },
    {
     "data": {
      "image/png": "[encoded data removed]",
      "text/plain": [
       "<Figure size 432x288 with 1 Axes>"
      ]
     },
     "metadata": {
      "needs_background": "light"
     },
     "output_type": "display_data"
    }
   ],
   "source": [
    "sns.countplot(x='Category', data = df)"
   ]
  },
  {
   "cell_type": "markdown",
   "metadata": {
    "papermill": {
     "duration": 0.054378,
     "end_time": "2020-11-24T20:32:47.458339",
     "exception": false,
     "start_time": "2020-11-24T20:32:47.403961",
     "status": "completed"
    },
    "tags": []
   },
   "source": [
    "This shows dataset contains very less spam messages."
   ]
  },
  {
   "cell_type": "markdown",
   "metadata": {
    "papermill": {
     "duration": 0.05472,
     "end_time": "2020-11-24T20:32:47.567061",
     "exception": false,
     "start_time": "2020-11-24T20:32:47.512341",
     "status": "completed"
    },
    "tags": []
   },
   "source": [
    "### Length of tweet"
   ]
  },
  {
   "cell_type": "code",
   "execution_count": 5,
   "metadata": {
    "execution": {
     "iopub.execute_input": "2020-11-24T20:32:47.698827Z",
     "iopub.status.busy": "2020-11-24T20:32:47.697720Z",
     "iopub.status.idle": "2020-11-24T20:32:48.206334Z",
     "shell.execute_reply": "2020-11-24T20:32:48.206929Z"
    },
    "papermill": {
     "duration": 0.583762,
     "end_time": "2020-11-24T20:32:48.207088",
     "exception": false,
     "start_time": "2020-11-24T20:32:47.623326",
     "status": "completed"
    },
    "tags": []
   },
   "outputs": [
    {
     "data": {
      "image/png": "[encoded data removed]",
      "text/plain": [
       "<Figure size 720x360 with 2 Axes>"
      ]
     },
     "metadata": {
      "needs_background": "light"
     },
     "output_type": "display_data"
    }
   ],
   "source": [
    "fig,(ax1,ax2)=plt.subplots(1,2,figsize=(10,5))\n",
    "word=df[df['Category']=='ham']['Message'].str.split().map(lambda x : len(x))\n",
    "sns.distplot(word,ax=ax1,color='blue')\n",
    "ax1.set_title('ham')\n",
    "word=df[df['Category']=='spam']['Message'].str.split().map(lambda x : len(x))\n",
    "sns.distplot(word,ax=ax2,color='red')\n",
    "ax2.set_title('spam')\n",
    "fig.suptitle('Length of each tweet')\n",
    "plt.show()"
   ]
  },
  {
   "cell_type": "markdown",
   "metadata": {
    "papermill": {
     "duration": 0.06638,
     "end_time": "2020-11-24T20:32:48.341670",
     "exception": false,
     "start_time": "2020-11-24T20:32:48.275290",
     "status": "completed"
    },
    "tags": []
   },
   "source": [
    "### Displaying most common words"
   ]
  },
  {
   "cell_type": "code",
   "execution_count": 6,
   "metadata": {
    "execution": {
     "iopub.execute_input": "2020-11-24T20:32:48.493867Z",
     "iopub.status.busy": "2020-11-24T20:32:48.492857Z",
     "iopub.status.idle": "2020-11-24T20:32:48.844018Z",
     "shell.execute_reply": "2020-11-24T20:32:48.844677Z"
    },
    "papermill": {
     "duration": 0.439539,
     "end_time": "2020-11-24T20:32:48.844843",
     "exception": false,
     "start_time": "2020-11-24T20:32:48.405304",
     "status": "completed"
    },
    "tags": []
   },
   "outputs": [
    {
     "data": {
      "image/png": "[encoded data removed]",
      "text/plain": [
       "<Figure size 864x432 with 1 Axes>"
      ]
     },
     "metadata": {
      "needs_background": "light"
     },
     "output_type": "display_data"
    }
   ],
   "source": [
    "df['temp_list'] = df['Message'].apply(lambda x : str(x).lower().split())\n",
    "fig, axes = plt.subplots(1, 1, figsize=(12, 6))\n",
    "from collections import Counter\n",
    "top = Counter([item for sublist in df['temp_list'] for item in sublist])\n",
    "temp = pd.DataFrame(top.most_common(25))\n",
    "temp.columns = ['Common_words', 'count']\n",
    "sns.barplot(x=temp['Common_words'], y=temp['count'], ax=axes)\n",
    "plt.show()"
   ]
  },
  {
   "cell_type": "code",
   "execution_count": 7,
   "metadata": {
    "execution": {
     "iopub.execute_input": "2020-11-24T20:32:48.978405Z",
     "iopub.status.busy": "2020-11-24T20:32:48.977503Z",
     "iopub.status.idle": "2020-11-24T20:32:50.120454Z",
     "shell.execute_reply": "2020-11-24T20:32:50.119319Z"
    },
    "papermill": {
     "duration": 1.207902,
     "end_time": "2020-11-24T20:32:50.120589",
     "exception": false,
     "start_time": "2020-11-24T20:32:48.912687",
     "status": "completed"
    },
    "tags": []
   },
   "outputs": [
    {
     "data": {
      "image/png": "[encoded data removed]",
      "text/plain": [
       "<Figure size 432x288 with 1 Axes>"
      ]
     },
     "metadata": {
      "needs_background": "light"
     },
     "output_type": "display_data"
    }
   ],
   "source": [
    "from wordcloud import WordCloud, STOPWORDS\n",
    "text = df['Message'].values\n",
    "cloud = WordCloud(stopwords = STOPWORDS,max_words = 200,).generate(\" \".join(text))\n",
    "plt.imshow(cloud)\n",
    "plt.axis('off')\n",
    "plt.show()"
   ]
  },
  {
   "cell_type": "markdown",
   "metadata": {
    "papermill": {
     "duration": 0.062391,
     "end_time": "2020-11-24T20:32:50.246628",
     "exception": false,
     "start_time": "2020-11-24T20:32:50.184237",
     "status": "completed"
    },
    "tags": []
   },
   "source": [
    "# Data Cleaning\n",
    "Now we will do some data cleaning steps so that we can get better results. After applying all the steps we can use the data for both machine learning and deep learning way."
   ]
  },
  {
   "cell_type": "markdown",
   "metadata": {
    "papermill": {
     "duration": 0.073679,
     "end_time": "2020-11-24T20:32:50.382322",
     "exception": false,
     "start_time": "2020-11-24T20:32:50.308643",
     "status": "completed"
    },
    "tags": []
   },
   "source": [
    "### First, we will remove all the punctuation marks and numbers and will convert into lowercase."
   ]
  },
  {
   "cell_type": "code",
   "execution_count": 8,
   "metadata": {
    "execution": {
     "iopub.execute_input": "2020-11-24T20:32:50.513279Z",
     "iopub.status.busy": "2020-11-24T20:32:50.512272Z",
     "iopub.status.idle": "2020-11-24T20:32:50.515415Z",
     "shell.execute_reply": "2020-11-24T20:32:50.514864Z"
    },
    "papermill": {
     "duration": 0.069506,
     "end_time": "2020-11-24T20:32:50.515536",
     "exception": false,
     "start_time": "2020-11-24T20:32:50.446030",
     "status": "completed"
    },
    "tags": []
   },
   "outputs": [],
   "source": [
    "def clean(text):\n",
    "    text = re.sub('[^a-zA-Z]', ' ', text).lower().split()\n",
    "    return text"
   ]
  },
  {
   "cell_type": "code",
   "execution_count": 9,
   "metadata": {
    "execution": {
     "iopub.execute_input": "2020-11-24T20:32:50.692850Z",
     "iopub.status.busy": "2020-11-24T20:32:50.672358Z",
     "iopub.status.idle": "2020-11-24T20:32:50.728558Z",
     "shell.execute_reply": "2020-11-24T20:32:50.729066Z"
    },
    "papermill": {
     "duration": 0.150688,
     "end_time": "2020-11-24T20:32:50.729229",
     "exception": false,
     "start_time": "2020-11-24T20:32:50.578541",
     "status": "completed"
    },
    "tags": []
   },
   "outputs": [],
   "source": [
    "df['Message'] = df['Message'].apply(lambda x : clean(x))"
   ]
  },
  {
   "cell_type": "markdown",
   "metadata": {
    "papermill": {
     "duration": 0.063292,
     "end_time": "2020-11-24T20:32:50.854562",
     "exception": false,
     "start_time": "2020-11-24T20:32:50.791270",
     "status": "completed"
    },
    "tags": []
   },
   "source": [
    "### Then we will remove all the stopwords and will apply stemming to the rest of the text."
   ]
  },
  {
   "cell_type": "code",
   "execution_count": 10,
   "metadata": {
    "execution": {
     "iopub.execute_input": "2020-11-24T20:32:50.984302Z",
     "iopub.status.busy": "2020-11-24T20:32:50.983312Z",
     "iopub.status.idle": "2020-11-24T20:32:50.986530Z",
     "shell.execute_reply": "2020-11-24T20:32:50.985994Z"
    },
    "papermill": {
     "duration": 0.068857,
     "end_time": "2020-11-24T20:32:50.986629",
     "exception": false,
     "start_time": "2020-11-24T20:32:50.917772",
     "status": "completed"
    },
    "tags": []
   },
   "outputs": [],
   "source": [
    "ps = PorterStemmer()"
   ]
  },
  {
   "cell_type": "code",
   "execution_count": 11,
   "metadata": {
    "execution": {
     "iopub.execute_input": "2020-11-24T20:32:51.115845Z",
     "iopub.status.busy": "2020-11-24T20:32:51.114813Z",
     "iopub.status.idle": "2020-11-24T20:32:51.117980Z",
     "shell.execute_reply": "2020-11-24T20:32:51.117430Z"
    },
    "papermill": {
     "duration": 0.071912,
     "end_time": "2020-11-24T20:32:51.118094",
     "exception": false,
     "start_time": "2020-11-24T20:32:51.046182",
     "status": "completed"
    },
    "tags": []
   },
   "outputs": [],
   "source": [
    "def stemming(text):\n",
    "    text = [ps.stem(word) for word in text if not word in stopwords.words('english')]\n",
    "    text = ' '.join(text)\n",
    "    return text"
   ]
  },
  {
   "cell_type": "code",
   "execution_count": 12,
   "metadata": {
    "execution": {
     "iopub.execute_input": "2020-11-24T20:32:51.251292Z",
     "iopub.status.busy": "2020-11-24T20:32:51.250696Z",
     "iopub.status.idle": "2020-11-24T20:33:06.289714Z",
     "shell.execute_reply": "2020-11-24T20:33:06.289051Z"
    },
    "papermill": {
     "duration": 15.106262,
     "end_time": "2020-11-24T20:33:06.289849",
     "exception": false,
     "start_time": "2020-11-24T20:32:51.183587",
     "status": "completed"
    },
    "tags": []
   },
   "outputs": [],
   "source": [
    "df['Message'] = df['Message'].apply(lambda x : stemming(x))"
   ]
  },
  {
   "cell_type": "markdown",
   "metadata": {
    "papermill": {
     "duration": 0.05803,
     "end_time": "2020-11-24T20:33:06.407632",
     "exception": false,
     "start_time": "2020-11-24T20:33:06.349602",
     "status": "completed"
    },
    "tags": []
   },
   "source": [
    "### Now as we can see the Category column is in text data but we can't train using text data so we will convert it into dummy variables."
   ]
  },
  {
   "cell_type": "code",
   "execution_count": 13,
   "metadata": {
    "execution": {
     "iopub.execute_input": "2020-11-24T20:33:06.545775Z",
     "iopub.status.busy": "2020-11-24T20:33:06.544354Z",
     "iopub.status.idle": "2020-11-24T20:33:06.548835Z",
     "shell.execute_reply": "2020-11-24T20:33:06.548303Z"
    },
    "papermill": {
     "duration": 0.084185,
     "end_time": "2020-11-24T20:33:06.548947",
     "exception": false,
     "start_time": "2020-11-24T20:33:06.464762",
     "status": "completed"
    },
    "tags": []
   },
   "outputs": [],
   "source": [
    "y = pd.get_dummies(df['Category'])"
   ]
  },
  {
   "cell_type": "code",
   "execution_count": 14,
   "metadata": {
    "execution": {
     "iopub.execute_input": "2020-11-24T20:33:06.678276Z",
     "iopub.status.busy": "2020-11-24T20:33:06.677256Z",
     "iopub.status.idle": "2020-11-24T20:33:06.679537Z",
     "shell.execute_reply": "2020-11-24T20:33:06.680105Z"
    },
    "papermill": {
     "duration": 0.069408,
     "end_time": "2020-11-24T20:33:06.680255",
     "exception": false,
     "start_time": "2020-11-24T20:33:06.610847",
     "status": "completed"
    },
    "tags": []
   },
   "outputs": [],
   "source": [
    "y=y.iloc[:,1].values"
   ]
  },
  {
   "cell_type": "code",
   "execution_count": 15,
   "metadata": {
    "execution": {
     "iopub.execute_input": "2020-11-24T20:33:06.804345Z",
     "iopub.status.busy": "2020-11-24T20:33:06.803565Z",
     "iopub.status.idle": "2020-11-24T20:33:06.807237Z",
     "shell.execute_reply": "2020-11-24T20:33:06.807759Z"
    },
    "papermill": {
     "duration": 0.069053,
     "end_time": "2020-11-24T20:33:06.807877",
     "exception": false,
     "start_time": "2020-11-24T20:33:06.738824",
     "status": "completed"
    },
    "tags": []
   },
   "outputs": [
    {
     "data": {
      "text/plain": [
       "array(['go jurong point crazi avail bugi n great world la e buffet cine got amor wat',\n",
       "       'ok lar joke wif u oni',\n",
       "       'free entri wkli comp win fa cup final tkt st may text fa receiv entri question std txt rate c appli',\n",
       "       ..., 'piti mood suggest',\n",
       "       'guy bitch act like interest buy someth els next week gave us free',\n",
       "       'rofl true name'], dtype=object)"
      ]
     },
     "execution_count": 15,
     "metadata": {},
     "output_type": "execute_result"
    }
   ],
   "source": [
    "X = df['Message'].values\n",
    "X"
   ]
  },
  {
   "cell_type": "markdown",
   "metadata": {
    "papermill": {
     "duration": 0.061428,
     "end_time": "2020-11-24T20:33:06.928780",
     "exception": false,
     "start_time": "2020-11-24T20:33:06.867352",
     "status": "completed"
    },
    "tags": []
   },
   "source": [
    "# Machine Learning Way\n",
    "After applying all the data cleaning steps, we can't directly use a text data, we first have to convert it into vectorial form. So we can convert text data into vector form through many ways. Here I will be using two techniques and that are Bag of Words and TF-IDF."
   ]
  },
  {
   "cell_type": "markdown",
   "metadata": {
    "papermill": {
     "duration": 0.060202,
     "end_time": "2020-11-24T20:33:07.048976",
     "exception": false,
     "start_time": "2020-11-24T20:33:06.988774",
     "status": "completed"
    },
    "tags": []
   },
   "source": [
    "### Bag of Words"
   ]
  },
  {
   "cell_type": "code",
   "execution_count": 16,
   "metadata": {
    "execution": {
     "iopub.execute_input": "2020-11-24T20:33:07.196028Z",
     "iopub.status.busy": "2020-11-24T20:33:07.180760Z",
     "iopub.status.idle": "2020-11-24T20:33:07.286417Z",
     "shell.execute_reply": "2020-11-24T20:33:07.286863Z"
    },
    "papermill": {
     "duration": 0.176389,
     "end_time": "2020-11-24T20:33:07.286999",
     "exception": false,
     "start_time": "2020-11-24T20:33:07.110610",
     "status": "completed"
    },
    "tags": []
   },
   "outputs": [],
   "source": [
    "cv = CountVectorizer(max_features=5000)\n",
    "X1 = cv.fit_transform(X)"
   ]
  },
  {
   "cell_type": "markdown",
   "metadata": {
    "papermill": {
     "duration": 0.059547,
     "end_time": "2020-11-24T20:33:07.406895",
     "exception": false,
     "start_time": "2020-11-24T20:33:07.347348",
     "status": "completed"
    },
    "tags": []
   },
   "source": [
    "### TF-IDF"
   ]
  },
  {
   "cell_type": "code",
   "execution_count": 17,
   "metadata": {
    "execution": {
     "iopub.execute_input": "2020-11-24T20:33:07.558791Z",
     "iopub.status.busy": "2020-11-24T20:33:07.553704Z",
     "iopub.status.idle": "2020-11-24T20:33:07.646030Z",
     "shell.execute_reply": "2020-11-24T20:33:07.645471Z"
    },
    "papermill": {
     "duration": 0.179672,
     "end_time": "2020-11-24T20:33:07.646134",
     "exception": false,
     "start_time": "2020-11-24T20:33:07.466462",
     "status": "completed"
    },
    "tags": []
   },
   "outputs": [],
   "source": [
    "cv2 = TfidfVectorizer(max_features=5000)\n",
    "X2 = cv2.fit_transform(X)"
   ]
  },
  {
   "cell_type": "markdown",
   "metadata": {
    "papermill": {
     "duration": 0.060551,
     "end_time": "2020-11-24T20:33:07.767480",
     "exception": false,
     "start_time": "2020-11-24T20:33:07.706929",
     "status": "completed"
    },
    "tags": []
   },
   "source": [
    "### Splitting the data into train and test set"
   ]
  },
  {
   "cell_type": "code",
   "execution_count": 18,
   "metadata": {
    "execution": {
     "iopub.execute_input": "2020-11-24T20:33:07.898062Z",
     "iopub.status.busy": "2020-11-24T20:33:07.897177Z",
     "iopub.status.idle": "2020-11-24T20:33:07.902823Z",
     "shell.execute_reply": "2020-11-24T20:33:07.903346Z"
    },
    "papermill": {
     "duration": 0.074961,
     "end_time": "2020-11-24T20:33:07.903487",
     "exception": false,
     "start_time": "2020-11-24T20:33:07.828526",
     "status": "completed"
    },
    "tags": []
   },
   "outputs": [],
   "source": [
    "X1_train, X1_test, y_train, y_test = train_test_split(X1, y, test_size = 0.20, random_state=3) \n",
    "X2_train, X2_test, y_train, y_test = train_test_split(X2, y, test_size = 0.20, random_state=3)"
   ]
  },
  {
   "cell_type": "markdown",
   "metadata": {
    "papermill": {
     "duration": 0.059502,
     "end_time": "2020-11-24T20:33:08.023441",
     "exception": false,
     "start_time": "2020-11-24T20:33:07.963939",
     "status": "completed"
    },
    "tags": []
   },
   "source": [
    "## Naive Bayes"
   ]
  },
  {
   "cell_type": "code",
   "execution_count": 19,
   "metadata": {
    "execution": {
     "iopub.execute_input": "2020-11-24T20:33:08.154826Z",
     "iopub.status.busy": "2020-11-24T20:33:08.153764Z",
     "iopub.status.idle": "2020-11-24T20:33:08.162252Z",
     "shell.execute_reply": "2020-11-24T20:33:08.161708Z"
    },
    "papermill": {
     "duration": 0.076877,
     "end_time": "2020-11-24T20:33:08.162357",
     "exception": false,
     "start_time": "2020-11-24T20:33:08.085480",
     "status": "completed"
    },
    "tags": []
   },
   "outputs": [],
   "source": [
    "spam_detect = MultinomialNB().fit(X1_train, y_train)\n",
    "spam_detect2 = MultinomialNB().fit(X2_train, y_train)"
   ]
  },
  {
   "cell_type": "code",
   "execution_count": 20,
   "metadata": {
    "execution": {
     "iopub.execute_input": "2020-11-24T20:33:08.292183Z",
     "iopub.status.busy": "2020-11-24T20:33:08.290949Z",
     "iopub.status.idle": "2020-11-24T20:33:08.294869Z",
     "shell.execute_reply": "2020-11-24T20:33:08.294306Z"
    },
    "papermill": {
     "duration": 0.069094,
     "end_time": "2020-11-24T20:33:08.294975",
     "exception": false,
     "start_time": "2020-11-24T20:33:08.225881",
     "status": "completed"
    },
    "tags": []
   },
   "outputs": [],
   "source": [
    "y_pred = spam_detect.predict(X1_test)\n",
    "y_pred2 = spam_detect2.predict(X2_test)"
   ]
  },
  {
   "cell_type": "code",
   "execution_count": 21,
   "metadata": {
    "execution": {
     "iopub.execute_input": "2020-11-24T20:33:08.423102Z",
     "iopub.status.busy": "2020-11-24T20:33:08.421778Z",
     "iopub.status.idle": "2020-11-24T20:33:08.427915Z",
     "shell.execute_reply": "2020-11-24T20:33:08.427291Z"
    },
    "papermill": {
     "duration": 0.071554,
     "end_time": "2020-11-24T20:33:08.428017",
     "exception": false,
     "start_time": "2020-11-24T20:33:08.356463",
     "status": "completed"
    },
    "tags": []
   },
   "outputs": [
    {
     "data": {
      "text/plain": [
       "0.9838565022421525"
      ]
     },
     "execution_count": 21,
     "metadata": {},
     "output_type": "execute_result"
    }
   ],
   "source": [
    "accuracy1 = accuracy_score(y_test, y_pred)\n",
    "accuracy1"
   ]
  },
  {
   "cell_type": "code",
   "execution_count": 22,
   "metadata": {
    "execution": {
     "iopub.execute_input": "2020-11-24T20:33:08.553339Z",
     "iopub.status.busy": "2020-11-24T20:33:08.552383Z",
     "iopub.status.idle": "2020-11-24T20:33:08.557368Z",
     "shell.execute_reply": "2020-11-24T20:33:08.557801Z"
    },
    "papermill": {
     "duration": 0.070143,
     "end_time": "2020-11-24T20:33:08.557922",
     "exception": false,
     "start_time": "2020-11-24T20:33:08.487779",
     "status": "completed"
    },
    "tags": []
   },
   "outputs": [
    {
     "data": {
      "text/plain": [
       "0.9838565022421525"
      ]
     },
     "execution_count": 22,
     "metadata": {},
     "output_type": "execute_result"
    }
   ],
   "source": [
    "accuracy2 = accuracy_score(y_test, y_pred)\n",
    "accuracy2"
   ]
  },
  {
   "cell_type": "markdown",
   "metadata": {
    "papermill": {
     "duration": 0.061013,
     "end_time": "2020-11-24T20:33:08.681905",
     "exception": false,
     "start_time": "2020-11-24T20:33:08.620892",
     "status": "completed"
    },
    "tags": []
   },
   "source": [
    "## Logistic Regression"
   ]
  },
  {
   "cell_type": "code",
   "execution_count": 23,
   "metadata": {
    "execution": {
     "iopub.execute_input": "2020-11-24T20:33:08.811669Z",
     "iopub.status.busy": "2020-11-24T20:33:08.810623Z",
     "iopub.status.idle": "2020-11-24T20:33:08.939597Z",
     "shell.execute_reply": "2020-11-24T20:33:08.938952Z"
    },
    "papermill": {
     "duration": 0.196282,
     "end_time": "2020-11-24T20:33:08.939753",
     "exception": false,
     "start_time": "2020-11-24T20:33:08.743471",
     "status": "completed"
    },
    "tags": []
   },
   "outputs": [],
   "source": [
    "spam_detect3 = LogisticRegression().fit(X1_train, y_train)\n",
    "spam_detect4 = LogisticRegression().fit(X2_train, y_train)"
   ]
  },
  {
   "cell_type": "code",
   "execution_count": 24,
   "metadata": {
    "execution": {
     "iopub.execute_input": "2020-11-24T20:33:09.083332Z",
     "iopub.status.busy": "2020-11-24T20:33:09.082392Z",
     "iopub.status.idle": "2020-11-24T20:33:09.086310Z",
     "shell.execute_reply": "2020-11-24T20:33:09.086888Z"
    },
    "papermill": {
     "duration": 0.079787,
     "end_time": "2020-11-24T20:33:09.087079",
     "exception": false,
     "start_time": "2020-11-24T20:33:09.007292",
     "status": "completed"
    },
    "tags": []
   },
   "outputs": [],
   "source": [
    "y_pred3 = spam_detect3.predict(X1_test)\n",
    "y_pred4 = spam_detect4.predict(X2_test)"
   ]
  },
  {
   "cell_type": "code",
   "execution_count": 25,
   "metadata": {
    "execution": {
     "iopub.execute_input": "2020-11-24T20:33:09.227933Z",
     "iopub.status.busy": "2020-11-24T20:33:09.226922Z",
     "iopub.status.idle": "2020-11-24T20:33:09.232008Z",
     "shell.execute_reply": "2020-11-24T20:33:09.232638Z"
    },
    "papermill": {
     "duration": 0.073123,
     "end_time": "2020-11-24T20:33:09.232771",
     "exception": false,
     "start_time": "2020-11-24T20:33:09.159648",
     "status": "completed"
    },
    "tags": []
   },
   "outputs": [
    {
     "data": {
      "text/plain": [
       "0.9829596412556054"
      ]
     },
     "execution_count": 25,
     "metadata": {},
     "output_type": "execute_result"
    }
   ],
   "source": [
    "accuracy3 = accuracy_score(y_test, y_pred3)\n",
    "accuracy3"
   ]
  },
  {
   "cell_type": "code",
   "execution_count": 26,
   "metadata": {
    "execution": {
     "iopub.execute_input": "2020-11-24T20:33:09.365940Z",
     "iopub.status.busy": "2020-11-24T20:33:09.365057Z",
     "iopub.status.idle": "2020-11-24T20:33:09.370727Z",
     "shell.execute_reply": "2020-11-24T20:33:09.370247Z"
    },
    "papermill": {
     "duration": 0.07331,
     "end_time": "2020-11-24T20:33:09.370835",
     "exception": false,
     "start_time": "2020-11-24T20:33:09.297525",
     "status": "completed"
    },
    "tags": []
   },
   "outputs": [
    {
     "data": {
      "text/plain": [
       "0.9632286995515695"
      ]
     },
     "execution_count": 26,
     "metadata": {},
     "output_type": "execute_result"
    }
   ],
   "source": [
    "accuracy4 = accuracy_score(y_test, y_pred4)\n",
    "accuracy4"
   ]
  },
  {
   "cell_type": "markdown",
   "metadata": {
    "papermill": {
     "duration": 0.105514,
     "end_time": "2020-11-24T20:33:09.552498",
     "exception": false,
     "start_time": "2020-11-24T20:33:09.446984",
     "status": "completed"
    },
    "tags": []
   },
   "source": [
    "## KNN Classifier"
   ]
  },
  {
   "cell_type": "code",
   "execution_count": 27,
   "metadata": {
    "execution": {
     "iopub.execute_input": "2020-11-24T20:33:09.741355Z",
     "iopub.status.busy": "2020-11-24T20:33:09.740366Z",
     "iopub.status.idle": "2020-11-24T20:33:14.542647Z",
     "shell.execute_reply": "2020-11-24T20:33:14.543531Z"
    },
    "papermill": {
     "duration": 4.899518,
     "end_time": "2020-11-24T20:33:14.543690",
     "exception": false,
     "start_time": "2020-11-24T20:33:09.644172",
     "status": "completed"
    },
    "tags": []
   },
   "outputs": [
    {
     "name": "stdout",
     "output_type": "stream",
     "text": [
      "Fitting 5 folds for each of 6 candidates, totalling 30 fits\n"
     ]
    },
    {
     "name": "stderr",
     "output_type": "stream",
     "text": [
      "[Parallel(n_jobs=-1)]: Using backend LokyBackend with 2 concurrent workers.\n",
      "[Parallel(n_jobs=-1)]: Done  30 out of  30 | elapsed:    4.8s finished\n"
     ]
    },
    {
     "data": {
      "text/plain": [
       "GridSearchCV(estimator=KNeighborsClassifier(), n_jobs=-1,\n",
       "             param_grid={'n_neighbors': (4, 5, 6, 10, 15, 20)}, verbose=1)"
      ]
     },
     "execution_count": 27,
     "metadata": {},
     "output_type": "execute_result"
    }
   ],
   "source": [
    "params = {'n_neighbors' : (4,5,6,10,15,20), }\n",
    "grid_KNN = GridSearchCV(KNeighborsClassifier(), params, n_jobs=-1, verbose=1)\n",
    "grid_KNN.fit(X1_train, y_train)"
   ]
  },
  {
   "cell_type": "code",
   "execution_count": 28,
   "metadata": {
    "execution": {
     "iopub.execute_input": "2020-11-24T20:33:14.679357Z",
     "iopub.status.busy": "2020-11-24T20:33:14.678633Z",
     "iopub.status.idle": "2020-11-24T20:33:14.683249Z",
     "shell.execute_reply": "2020-11-24T20:33:14.683932Z"
    },
    "papermill": {
     "duration": 0.075984,
     "end_time": "2020-11-24T20:33:14.684087",
     "exception": false,
     "start_time": "2020-11-24T20:33:14.608103",
     "status": "completed"
    },
    "tags": []
   },
   "outputs": [
    {
     "name": "stdout",
     "output_type": "stream",
     "text": [
      "{'n_neighbors': 5}\n"
     ]
    }
   ],
   "source": [
    "print(grid_KNN.best_params_)"
   ]
  },
  {
   "cell_type": "code",
   "execution_count": 29,
   "metadata": {
    "execution": {
     "iopub.execute_input": "2020-11-24T20:33:14.820725Z",
     "iopub.status.busy": "2020-11-24T20:33:14.819780Z",
     "iopub.status.idle": "2020-11-24T20:33:14.825446Z",
     "shell.execute_reply": "2020-11-24T20:33:14.824864Z"
    },
    "papermill": {
     "duration": 0.077389,
     "end_time": "2020-11-24T20:33:14.825567",
     "exception": false,
     "start_time": "2020-11-24T20:33:14.748178",
     "status": "completed"
    },
    "tags": []
   },
   "outputs": [],
   "source": [
    "spam_detect5 = KNeighborsClassifier(n_neighbors=5).fit(X1_train, y_train)\n",
    "spam_detect6 = KNeighborsClassifier(n_neighbors=5).fit(X2_train, y_train)"
   ]
  },
  {
   "cell_type": "code",
   "execution_count": 30,
   "metadata": {
    "execution": {
     "iopub.execute_input": "2020-11-24T20:33:14.963464Z",
     "iopub.status.busy": "2020-11-24T20:33:14.962397Z",
     "iopub.status.idle": "2020-11-24T20:33:15.340048Z",
     "shell.execute_reply": "2020-11-24T20:33:15.343601Z"
    },
    "papermill": {
     "duration": 0.45128,
     "end_time": "2020-11-24T20:33:15.343837",
     "exception": false,
     "start_time": "2020-11-24T20:33:14.892557",
     "status": "completed"
    },
    "tags": []
   },
   "outputs": [],
   "source": [
    "y_pred5 = spam_detect5.predict(X1_test)\n",
    "y_pred6 = spam_detect6.predict(X2_test)"
   ]
  },
  {
   "cell_type": "code",
   "execution_count": 31,
   "metadata": {
    "execution": {
     "iopub.execute_input": "2020-11-24T20:33:15.552520Z",
     "iopub.status.busy": "2020-11-24T20:33:15.551657Z",
     "iopub.status.idle": "2020-11-24T20:33:15.556838Z",
     "shell.execute_reply": "2020-11-24T20:33:15.557484Z"
    },
    "papermill": {
     "duration": 0.112015,
     "end_time": "2020-11-24T20:33:15.557670",
     "exception": false,
     "start_time": "2020-11-24T20:33:15.445655",
     "status": "completed"
    },
    "tags": []
   },
   "outputs": [
    {
     "data": {
      "text/plain": [
       "0.9201793721973094"
      ]
     },
     "execution_count": 31,
     "metadata": {},
     "output_type": "execute_result"
    }
   ],
   "source": [
    "accuracy5 = accuracy_score(y_test, y_pred5)\n",
    "accuracy5"
   ]
  },
  {
   "cell_type": "code",
   "execution_count": 32,
   "metadata": {
    "execution": {
     "iopub.execute_input": "2020-11-24T20:33:15.758380Z",
     "iopub.status.busy": "2020-11-24T20:33:15.757506Z",
     "iopub.status.idle": "2020-11-24T20:33:15.762626Z",
     "shell.execute_reply": "2020-11-24T20:33:15.763296Z"
    },
    "papermill": {
     "duration": 0.109146,
     "end_time": "2020-11-24T20:33:15.763465",
     "exception": false,
     "start_time": "2020-11-24T20:33:15.654319",
     "status": "completed"
    },
    "tags": []
   },
   "outputs": [
    {
     "data": {
      "text/plain": [
       "0.915695067264574"
      ]
     },
     "execution_count": 32,
     "metadata": {},
     "output_type": "execute_result"
    }
   ],
   "source": [
    "accuracy6 = accuracy_score(y_test, y_pred6)\n",
    "accuracy6"
   ]
  },
  {
   "cell_type": "markdown",
   "metadata": {
    "papermill": {
     "duration": 0.099117,
     "end_time": "2020-11-24T20:33:15.957903",
     "exception": false,
     "start_time": "2020-11-24T20:33:15.858786",
     "status": "completed"
    },
    "tags": []
   },
   "source": [
    "### Let's see using using which vectorial coversion technique and which classifier gave the best result"
   ]
  },
  {
   "cell_type": "code",
   "execution_count": 33,
   "metadata": {
    "execution": {
     "iopub.execute_input": "2020-11-24T20:33:16.180495Z",
     "iopub.status.busy": "2020-11-24T20:33:16.179463Z",
     "iopub.status.idle": "2020-11-24T20:33:16.182198Z",
     "shell.execute_reply": "2020-11-24T20:33:16.181377Z"
    },
    "papermill": {
     "duration": 0.10586,
     "end_time": "2020-11-24T20:33:16.182338",
     "exception": false,
     "start_time": "2020-11-24T20:33:16.076478",
     "status": "completed"
    },
    "tags": []
   },
   "outputs": [],
   "source": [
    "label = ['Naive Bayes', 'Logistic Regression', 'KNN']\n",
    "bow = [accuracy1, accuracy3, accuracy5]\n",
    "tfidf = [accuracy2, accuracy4, accuracy6]"
   ]
  },
  {
   "cell_type": "code",
   "execution_count": 34,
   "metadata": {
    "execution": {
     "iopub.execute_input": "2020-11-24T20:33:16.370001Z",
     "iopub.status.busy": "2020-11-24T20:33:16.369102Z",
     "iopub.status.idle": "2020-11-24T20:33:16.371460Z",
     "shell.execute_reply": "2020-11-24T20:33:16.370793Z"
    },
    "papermill": {
     "duration": 0.09514,
     "end_time": "2020-11-24T20:33:16.371589",
     "exception": false,
     "start_time": "2020-11-24T20:33:16.276449",
     "status": "completed"
    },
    "tags": []
   },
   "outputs": [],
   "source": [
    "x = np.arange(len(label))\n",
    "width = 0.25"
   ]
  },
  {
   "cell_type": "code",
   "execution_count": 35,
   "metadata": {
    "execution": {
     "iopub.execute_input": "2020-11-24T20:33:16.561209Z",
     "iopub.status.busy": "2020-11-24T20:33:16.560320Z",
     "iopub.status.idle": "2020-11-24T20:33:16.746735Z",
     "shell.execute_reply": "2020-11-24T20:33:16.745694Z"
    },
    "papermill": {
     "duration": 0.285755,
     "end_time": "2020-11-24T20:33:16.746870",
     "exception": false,
     "start_time": "2020-11-24T20:33:16.461115",
     "status": "completed"
    },
    "tags": []
   },
   "outputs": [
    {
     "data": {
      "image/png": "[encoded data removed]",
      "text/plain": [
       "<Figure size 576x288 with 1 Axes>"
      ]
     },
     "metadata": {
      "needs_background": "light"
     },
     "output_type": "display_data"
    }
   ],
   "source": [
    "fig, ax = plt.subplots(figsize=(8,4))\n",
    "rects1 = ax.bar(x-width/2, bow, width, label='BagOfWords')\n",
    "rects2 = ax.bar(x+width/2, tfidf, width, label='TF-IDF')\n",
    "\n",
    "ax.set_ylabel('Accuracy')\n",
    "ax.set_xticks(x)\n",
    "ax.set_xticklabels(label)\n",
    "ax.legend()\n",
    "\n",
    "plt.show()"
   ]
  },
  {
   "cell_type": "markdown",
   "metadata": {
    "papermill": {
     "duration": 0.070731,
     "end_time": "2020-11-24T20:33:16.892543",
     "exception": false,
     "start_time": "2020-11-24T20:33:16.821812",
     "status": "completed"
    },
    "tags": []
   },
   "source": [
    "### So we can observe almost both the conversion technique gives the same result and Naive Bayes classifier gives the best result."
   ]
  },
  {
   "cell_type": "markdown",
   "metadata": {
    "papermill": {
     "duration": 0.069461,
     "end_time": "2020-11-24T20:33:17.041098",
     "exception": false,
     "start_time": "2020-11-24T20:33:16.971637",
     "status": "completed"
    },
    "tags": []
   },
   "source": [
    "# Deep Learning Way\n",
    "Next we will talk about the deep learning way.<br>\n",
    "Now here we will use the same data which we got after applying data cleaning steps. But now we have to the process the data differently."
   ]
  },
  {
   "cell_type": "code",
   "execution_count": 36,
   "metadata": {
    "execution": {
     "iopub.execute_input": "2020-11-24T20:33:17.190398Z",
     "iopub.status.busy": "2020-11-24T20:33:17.189408Z",
     "iopub.status.idle": "2020-11-24T20:33:17.191412Z",
     "shell.execute_reply": "2020-11-24T20:33:17.192060Z"
    },
    "papermill": {
     "duration": 0.079624,
     "end_time": "2020-11-24T20:33:17.192200",
     "exception": false,
     "start_time": "2020-11-24T20:33:17.112576",
     "status": "completed"
    },
    "tags": []
   },
   "outputs": [],
   "source": [
    "#Dictionary size\n",
    "vocab_size=5000"
   ]
  },
  {
   "cell_type": "code",
   "execution_count": 37,
   "metadata": {
    "execution": {
     "iopub.execute_input": "2020-11-24T20:33:17.341293Z",
     "iopub.status.busy": "2020-11-24T20:33:17.339429Z",
     "iopub.status.idle": "2020-11-24T20:33:17.342106Z",
     "shell.execute_reply": "2020-11-24T20:33:17.342650Z"
    },
    "papermill": {
     "duration": 0.078421,
     "end_time": "2020-11-24T20:33:17.342777",
     "exception": false,
     "start_time": "2020-11-24T20:33:17.264356",
     "status": "completed"
    },
    "tags": []
   },
   "outputs": [],
   "source": [
    "epochs = 10 #Train for 20 epochs for better accuracy\n",
    "batch_size = 32"
   ]
  },
  {
   "cell_type": "markdown",
   "metadata": {
    "papermill": {
     "duration": 0.068803,
     "end_time": "2020-11-24T20:33:17.483501",
     "exception": false,
     "start_time": "2020-11-24T20:33:17.414698",
     "status": "completed"
    },
    "tags": []
   },
   "source": [
    "Just as we converted our text data into vector form previously, here also we will convert our text data but using different technique.<br>\n",
    "Firstly, we will convert our data into one hot representation.<br> Then we will do padding i.e., we will make all the sentence length to be equal."
   ]
  },
  {
   "cell_type": "code",
   "execution_count": 38,
   "metadata": {
    "execution": {
     "iopub.execute_input": "2020-11-24T20:33:17.659325Z",
     "iopub.status.busy": "2020-11-24T20:33:17.649097Z",
     "iopub.status.idle": "2020-11-24T20:33:17.722852Z",
     "shell.execute_reply": "2020-11-24T20:33:17.722305Z"
    },
    "papermill": {
     "duration": 0.168756,
     "end_time": "2020-11-24T20:33:17.722971",
     "exception": false,
     "start_time": "2020-11-24T20:33:17.554215",
     "status": "completed"
    },
    "tags": []
   },
   "outputs": [],
   "source": [
    "encoded_docs = [one_hot(word, vocab_size) for word in X]"
   ]
  },
  {
   "cell_type": "code",
   "execution_count": 39,
   "metadata": {
    "execution": {
     "iopub.execute_input": "2020-11-24T20:33:17.877959Z",
     "iopub.status.busy": "2020-11-24T20:33:17.875404Z",
     "iopub.status.idle": "2020-11-24T20:33:17.925821Z",
     "shell.execute_reply": "2020-11-24T20:33:17.926299Z"
    },
    "papermill": {
     "duration": 0.13202,
     "end_time": "2020-11-24T20:33:17.926442",
     "exception": false,
     "start_time": "2020-11-24T20:33:17.794422",
     "status": "completed"
    },
    "tags": []
   },
   "outputs": [],
   "source": [
    "max_len = len(X.max())\n",
    "pad_docs = pad_sequences(encoded_docs, maxlen = max_len, padding='post')"
   ]
  },
  {
   "cell_type": "markdown",
   "metadata": {
    "papermill": {
     "duration": 0.070647,
     "end_time": "2020-11-24T20:33:18.067285",
     "exception": false,
     "start_time": "2020-11-24T20:33:17.996638",
     "status": "completed"
    },
    "tags": []
   },
   "source": [
    "### Then again we will split the data into train and test set."
   ]
  },
  {
   "cell_type": "code",
   "execution_count": 40,
   "metadata": {
    "execution": {
     "iopub.execute_input": "2020-11-24T20:33:18.222382Z",
     "iopub.status.busy": "2020-11-24T20:33:18.221023Z",
     "iopub.status.idle": "2020-11-24T20:33:18.225232Z",
     "shell.execute_reply": "2020-11-24T20:33:18.224707Z"
    },
    "papermill": {
     "duration": 0.082957,
     "end_time": "2020-11-24T20:33:18.225343",
     "exception": false,
     "start_time": "2020-11-24T20:33:18.142386",
     "status": "completed"
    },
    "tags": []
   },
   "outputs": [],
   "source": [
    "X_train, X_test, y_train, y_test = train_test_split(pad_docs, y, test_size = 0.20, random_state=3) "
   ]
  },
  {
   "cell_type": "markdown",
   "metadata": {
    "papermill": {
     "duration": 0.068664,
     "end_time": "2020-11-24T20:33:18.362721",
     "exception": false,
     "start_time": "2020-11-24T20:33:18.294057",
     "status": "completed"
    },
    "tags": []
   },
   "source": [
    "## Simple RNN Model"
   ]
  },
  {
   "cell_type": "code",
   "execution_count": 41,
   "metadata": {
    "execution": {
     "iopub.execute_input": "2020-11-24T20:33:18.509591Z",
     "iopub.status.busy": "2020-11-24T20:33:18.508887Z",
     "iopub.status.idle": "2020-11-24T20:33:21.700183Z",
     "shell.execute_reply": "2020-11-24T20:33:21.699545Z"
    },
    "papermill": {
     "duration": 3.267998,
     "end_time": "2020-11-24T20:33:21.700317",
     "exception": false,
     "start_time": "2020-11-24T20:33:18.432319",
     "status": "completed"
    },
    "tags": []
   },
   "outputs": [],
   "source": [
    "model1 = Sequential()\n",
    "model1.add(Embedding(vocab_size, 100, input_length = max_len))\n",
    "model1.add(Dropout(0.2))\n",
    "model1.add(SimpleRNN(100, return_sequences=True))\n",
    "model1.add(Dropout(0.2))\n",
    "model1.add(SimpleRNN(100, return_sequences=True))\n",
    "model1.add(Dense(1024, activation='relu'))\n",
    "model1.add(Dropout(0.2))\n",
    "model1.add(Dense(1024, activation='relu'))\n",
    "model1.add(Dropout(0.2))\n",
    "model1.add(Dense(1, activation='sigmoid'))"
   ]
  },
  {
   "cell_type": "code",
   "execution_count": 42,
   "metadata": {
    "execution": {
     "iopub.execute_input": "2020-11-24T20:33:21.857232Z",
     "iopub.status.busy": "2020-11-24T20:33:21.854735Z",
     "iopub.status.idle": "2020-11-24T20:33:21.866930Z",
     "shell.execute_reply": "2020-11-24T20:33:21.867956Z"
    },
    "papermill": {
     "duration": 0.088713,
     "end_time": "2020-11-24T20:33:21.868194",
     "exception": false,
     "start_time": "2020-11-24T20:33:21.779481",
     "status": "completed"
    },
    "tags": []
   },
   "outputs": [
    {
     "name": "stdout",
     "output_type": "stream",
     "text": [
      "Model: \"sequential\"\n",
      "_________________________________________________________________\n",
      "Layer (type)                 Output Shape              Param #   \n",
      "=================================================================\n",
      "embedding (Embedding)        (None, 73, 100)           500000    \n",
      "_________________________________________________________________\n",
      "dropout (Dropout)            (None, 73, 100)           0         \n",
      "_________________________________________________________________\n",
      "simple_rnn (SimpleRNN)       (None, 73, 100)           20100     \n",
      "_________________________________________________________________\n",
      "dropout_1 (Dropout)          (None, 73, 100)           0         \n",
      "_________________________________________________________________\n",
      "simple_rnn_1 (SimpleRNN)     (None, 73, 100)           20100     \n",
      "_________________________________________________________________\n",
      "dense (Dense)                (None, 73, 1024)          103424    \n",
      "_________________________________________________________________\n",
      "dropout_2 (Dropout)          (None, 73, 1024)          0         \n",
      "_________________________________________________________________\n",
      "dense_1 (Dense)              (None, 73, 1024)          1049600   \n",
      "_________________________________________________________________\n",
      "dropout_3 (Dropout)          (None, 73, 1024)          0         \n",
      "_________________________________________________________________\n",
      "dense_2 (Dense)              (None, 73, 1)             1025      \n",
      "=================================================================\n",
      "Total params: 1,694,249\n",
      "Trainable params: 1,694,249\n",
      "Non-trainable params: 0\n",
      "_________________________________________________________________\n"
     ]
    }
   ],
   "source": [
    "model1.summary()"
   ]
  },
  {
   "cell_type": "code",
   "execution_count": 43,
   "metadata": {
    "execution": {
     "iopub.execute_input": "2020-11-24T20:33:22.029453Z",
     "iopub.status.busy": "2020-11-24T20:33:22.028431Z",
     "iopub.status.idle": "2020-11-24T20:33:22.036879Z",
     "shell.execute_reply": "2020-11-24T20:33:22.036114Z"
    },
    "papermill": {
     "duration": 0.093005,
     "end_time": "2020-11-24T20:33:22.037002",
     "exception": false,
     "start_time": "2020-11-24T20:33:21.943997",
     "status": "completed"
    },
    "tags": []
   },
   "outputs": [],
   "source": [
    "model1.compile(optimizer='Adam', loss = 'binary_crossentropy', metrics=['acc'])"
   ]
  },
  {
   "cell_type": "code",
   "execution_count": 44,
   "metadata": {
    "execution": {
     "iopub.execute_input": "2020-11-24T20:33:22.190894Z",
     "iopub.status.busy": "2020-11-24T20:33:22.190076Z",
     "iopub.status.idle": "2020-11-24T20:36:03.684289Z",
     "shell.execute_reply": "2020-11-24T20:36:03.683614Z"
    },
    "papermill": {
     "duration": 161.573218,
     "end_time": "2020-11-24T20:36:03.684401",
     "exception": false,
     "start_time": "2020-11-24T20:33:22.111183",
     "status": "completed"
    },
    "tags": []
   },
   "outputs": [
    {
     "name": "stdout",
     "output_type": "stream",
     "text": [
      "Epoch 1/10\n",
      "140/140 [==============================] - 17s 121ms/step - loss: 0.2561 - acc: 0.9243 - val_loss: 0.1474 - val_acc: 0.9674\n",
      "Epoch 2/10\n",
      "140/140 [==============================] - 15s 110ms/step - loss: 0.2216 - acc: 0.9426 - val_loss: 0.1545 - val_acc: 0.9582\n",
      "Epoch 3/10\n",
      "140/140 [==============================] - 15s 107ms/step - loss: 0.2447 - acc: 0.9333 - val_loss: 0.3121 - val_acc: 0.8886\n",
      "Epoch 4/10\n",
      "140/140 [==============================] - 15s 110ms/step - loss: 0.1248 - acc: 0.9636 - val_loss: 0.1080 - val_acc: 0.9706\n",
      "Epoch 5/10\n",
      "140/140 [==============================] - 16s 115ms/step - loss: 0.1123 - acc: 0.9743 - val_loss: 0.1578 - val_acc: 0.9604\n",
      "Epoch 6/10\n",
      "140/140 [==============================] - 16s 114ms/step - loss: 0.1013 - acc: 0.9798 - val_loss: 0.1589 - val_acc: 0.9642\n",
      "Epoch 7/10\n",
      "140/140 [==============================] - 15s 104ms/step - loss: 0.0846 - acc: 0.9833 - val_loss: 0.1866 - val_acc: 0.9640\n",
      "Epoch 8/10\n",
      "140/140 [==============================] - 16s 114ms/step - loss: 0.0753 - acc: 0.9857 - val_loss: 0.1653 - val_acc: 0.9631\n",
      "Epoch 9/10\n",
      "140/140 [==============================] - 16s 112ms/step - loss: 0.0616 - acc: 0.9885 - val_loss: 0.1685 - val_acc: 0.9673\n",
      "Epoch 10/10\n",
      "140/140 [==============================] - 16s 118ms/step - loss: 0.0637 - acc: 0.9878 - val_loss: 0.1596 - val_acc: 0.9668\n"
     ]
    },
    {
     "data": {
      "text/plain": [
       "<tensorflow.python.keras.callbacks.History at 0x7f28455c7ed0>"
      ]
     },
     "execution_count": 44,
     "metadata": {},
     "output_type": "execute_result"
    }
   ],
   "source": [
    "model1.fit(X_train, y_train, validation_data=(X_test, y_test), epochs=epochs, batch_size=batch_size)"
   ]
  },
  {
   "cell_type": "markdown",
   "metadata": {
    "papermill": {
     "duration": 0.587605,
     "end_time": "2020-11-24T20:36:04.859147",
     "exception": false,
     "start_time": "2020-11-24T20:36:04.271542",
     "status": "completed"
    },
    "tags": []
   },
   "source": [
    "## LSTM Model"
   ]
  },
  {
   "cell_type": "code",
   "execution_count": 45,
   "metadata": {
    "execution": {
     "iopub.execute_input": "2020-11-24T20:36:06.106887Z",
     "iopub.status.busy": "2020-11-24T20:36:06.105823Z",
     "iopub.status.idle": "2020-11-24T20:36:06.662368Z",
     "shell.execute_reply": "2020-11-24T20:36:06.661307Z"
    },
    "papermill": {
     "duration": 1.154911,
     "end_time": "2020-11-24T20:36:06.662491",
     "exception": false,
     "start_time": "2020-11-24T20:36:05.507580",
     "status": "completed"
    },
    "tags": []
   },
   "outputs": [],
   "source": [
    "model2 = Sequential()\n",
    "model2.add(Embedding(vocab_size, 100, input_length = max_len))\n",
    "model2.add(Dropout(0.2))\n",
    "model2.add(LSTM(100, return_sequences = True))\n",
    "model2.add(Dropout(0.2))\n",
    "model2.add(LSTM(100, return_sequences = True))\n",
    "model2.add(Dense(1024, activation='relu'))\n",
    "model2.add(Dropout(0.2))\n",
    "model2.add(Dense(1024, activation='relu'))\n",
    "model2.add(Dropout(0.2))\n",
    "model2.add(Dense(1, activation='sigmoid'))"
   ]
  },
  {
   "cell_type": "code",
   "execution_count": 46,
   "metadata": {
    "execution": {
     "iopub.execute_input": "2020-11-24T20:36:07.844489Z",
     "iopub.status.busy": "2020-11-24T20:36:07.843497Z",
     "iopub.status.idle": "2020-11-24T20:36:07.858631Z",
     "shell.execute_reply": "2020-11-24T20:36:07.857924Z"
    },
    "papermill": {
     "duration": 0.614209,
     "end_time": "2020-11-24T20:36:07.858749",
     "exception": false,
     "start_time": "2020-11-24T20:36:07.244540",
     "status": "completed"
    },
    "tags": []
   },
   "outputs": [
    {
     "name": "stdout",
     "output_type": "stream",
     "text": [
      "Model: \"sequential_1\"\n",
      "_________________________________________________________________\n",
      "Layer (type)                 Output Shape              Param #   \n",
      "=================================================================\n",
      "embedding_1 (Embedding)      (None, 73, 100)           500000    \n",
      "_________________________________________________________________\n",
      "dropout_4 (Dropout)          (None, 73, 100)           0         \n",
      "_________________________________________________________________\n",
      "lstm (LSTM)                  (None, 73, 100)           80400     \n",
      "_________________________________________________________________\n",
      "dropout_5 (Dropout)          (None, 73, 100)           0         \n",
      "_________________________________________________________________\n",
      "lstm_1 (LSTM)                (None, 73, 100)           80400     \n",
      "_________________________________________________________________\n",
      "dense_3 (Dense)              (None, 73, 1024)          103424    \n",
      "_________________________________________________________________\n",
      "dropout_6 (Dropout)          (None, 73, 1024)          0         \n",
      "_________________________________________________________________\n",
      "dense_4 (Dense)              (None, 73, 1024)          1049600   \n",
      "_________________________________________________________________\n",
      "dropout_7 (Dropout)          (None, 73, 1024)          0         \n",
      "_________________________________________________________________\n",
      "dense_5 (Dense)              (None, 73, 1)             1025      \n",
      "=================================================================\n",
      "Total params: 1,814,849\n",
      "Trainable params: 1,814,849\n",
      "Non-trainable params: 0\n",
      "_________________________________________________________________\n"
     ]
    }
   ],
   "source": [
    "model2.summary()"
   ]
  },
  {
   "cell_type": "code",
   "execution_count": 47,
   "metadata": {
    "execution": {
     "iopub.execute_input": "2020-11-24T20:36:09.050393Z",
     "iopub.status.busy": "2020-11-24T20:36:09.049209Z",
     "iopub.status.idle": "2020-11-24T20:36:09.057600Z",
     "shell.execute_reply": "2020-11-24T20:36:09.057003Z"
    },
    "papermill": {
     "duration": 0.608079,
     "end_time": "2020-11-24T20:36:09.057708",
     "exception": false,
     "start_time": "2020-11-24T20:36:08.449629",
     "status": "completed"
    },
    "tags": []
   },
   "outputs": [],
   "source": [
    "model2.compile(optimizer='Adam', loss='binary_crossentropy', metrics=['acc'])"
   ]
  },
  {
   "cell_type": "code",
   "execution_count": 48,
   "metadata": {
    "execution": {
     "iopub.execute_input": "2020-11-24T20:36:10.272588Z",
     "iopub.status.busy": "2020-11-24T20:36:10.271596Z",
     "iopub.status.idle": "2020-11-24T20:36:48.617087Z",
     "shell.execute_reply": "2020-11-24T20:36:48.616473Z"
    },
    "papermill": {
     "duration": 38.952497,
     "end_time": "2020-11-24T20:36:48.617233",
     "exception": false,
     "start_time": "2020-11-24T20:36:09.664736",
     "status": "completed"
    },
    "tags": []
   },
   "outputs": [
    {
     "name": "stdout",
     "output_type": "stream",
     "text": [
      "Epoch 1/10\n",
      "140/140 [==============================] - 4s 27ms/step - loss: 0.2541 - acc: 0.9193 - val_loss: 0.1032 - val_acc: 0.9760\n",
      "Epoch 2/10\n",
      "140/140 [==============================] - 3s 23ms/step - loss: 0.0970 - acc: 0.9772 - val_loss: 0.0830 - val_acc: 0.9810\n",
      "Epoch 3/10\n",
      "140/140 [==============================] - 3s 23ms/step - loss: 0.0448 - acc: 0.9900 - val_loss: 0.1278 - val_acc: 0.9775\n",
      "Epoch 4/10\n",
      "140/140 [==============================] - 3s 23ms/step - loss: 0.0627 - acc: 0.9855 - val_loss: 0.1260 - val_acc: 0.9688\n",
      "Epoch 5/10\n",
      "140/140 [==============================] - 3s 24ms/step - loss: 0.0433 - acc: 0.9916 - val_loss: 0.1596 - val_acc: 0.9684\n",
      "Epoch 6/10\n",
      "140/140 [==============================] - 3s 23ms/step - loss: 0.0233 - acc: 0.9953 - val_loss: 0.1825 - val_acc: 0.9751\n",
      "Epoch 7/10\n",
      "140/140 [==============================] - 3s 23ms/step - loss: 0.0161 - acc: 0.9964 - val_loss: 0.1694 - val_acc: 0.9750\n",
      "Epoch 8/10\n",
      "140/140 [==============================] - 3s 24ms/step - loss: 0.0156 - acc: 0.9967 - val_loss: 0.1917 - val_acc: 0.9744\n",
      "Epoch 9/10\n",
      "140/140 [==============================] - 3s 23ms/step - loss: 0.0242 - acc: 0.9953 - val_loss: 0.1603 - val_acc: 0.9736\n",
      "Epoch 10/10\n",
      "140/140 [==============================] - 3s 21ms/step - loss: 0.0268 - acc: 0.9950 - val_loss: 0.1580 - val_acc: 0.9700\n"
     ]
    },
    {
     "data": {
      "text/plain": [
       "<tensorflow.python.keras.callbacks.History at 0x7f2845c75710>"
      ]
     },
     "execution_count": 48,
     "metadata": {},
     "output_type": "execute_result"
    }
   ],
   "source": [
    "model2.fit(X_train, y_train, validation_data=(X_test, y_test), epochs=epochs, batch_size=batch_size)"
   ]
  },
  {
   "cell_type": "markdown",
   "metadata": {
    "papermill": {
     "duration": 0.781087,
     "end_time": "2020-11-24T20:36:50.164980",
     "exception": false,
     "start_time": "2020-11-24T20:36:49.383893",
     "status": "completed"
    },
    "tags": []
   },
   "source": [
    "## Bidirectional RNN Model"
   ]
  },
  {
   "cell_type": "code",
   "execution_count": 49,
   "metadata": {
    "execution": {
     "iopub.execute_input": "2020-11-24T20:36:51.760575Z",
     "iopub.status.busy": "2020-11-24T20:36:51.759469Z",
     "iopub.status.idle": "2020-11-24T20:36:52.767861Z",
     "shell.execute_reply": "2020-11-24T20:36:52.767273Z"
    },
    "papermill": {
     "duration": 1.816775,
     "end_time": "2020-11-24T20:36:52.767986",
     "exception": false,
     "start_time": "2020-11-24T20:36:50.951211",
     "status": "completed"
    },
    "tags": []
   },
   "outputs": [],
   "source": [
    "model3 = Sequential()\n",
    "model3.add(Embedding(vocab_size, 100, input_length = max_len))\n",
    "model3.add(Dropout(0.2))\n",
    "model3.add(Bidirectional(LSTM(100, return_sequences = True)))\n",
    "model3.add(Dropout(0.2))\n",
    "model3.add(Bidirectional(LSTM(100, return_sequences = True)))\n",
    "model3.add(Dense(1024, activation='relu'))\n",
    "model3.add(Dropout(0.2))\n",
    "model3.add(Dense(1024, activation='relu'))\n",
    "model3.add(Dropout(0.2))\n",
    "model3.add(Dense(1, activation='sigmoid'))"
   ]
  },
  {
   "cell_type": "code",
   "execution_count": 50,
   "metadata": {
    "execution": {
     "iopub.execute_input": "2020-11-24T20:36:54.333553Z",
     "iopub.status.busy": "2020-11-24T20:36:54.328068Z",
     "iopub.status.idle": "2020-11-24T20:36:54.343132Z",
     "shell.execute_reply": "2020-11-24T20:36:54.343929Z"
    },
    "papermill": {
     "duration": 0.804038,
     "end_time": "2020-11-24T20:36:54.344187",
     "exception": false,
     "start_time": "2020-11-24T20:36:53.540149",
     "status": "completed"
    },
    "tags": []
   },
   "outputs": [
    {
     "name": "stdout",
     "output_type": "stream",
     "text": [
      "Model: \"sequential_2\"\n",
      "_________________________________________________________________\n",
      "Layer (type)                 Output Shape              Param #   \n",
      "=================================================================\n",
      "embedding_2 (Embedding)      (None, 73, 100)           500000    \n",
      "_________________________________________________________________\n",
      "dropout_8 (Dropout)          (None, 73, 100)           0         \n",
      "_________________________________________________________________\n",
      "bidirectional (Bidirectional (None, 73, 200)           160800    \n",
      "_________________________________________________________________\n",
      "dropout_9 (Dropout)          (None, 73, 200)           0         \n",
      "_________________________________________________________________\n",
      "bidirectional_1 (Bidirection (None, 73, 200)           240800    \n",
      "_________________________________________________________________\n",
      "dense_6 (Dense)              (None, 73, 1024)          205824    \n",
      "_________________________________________________________________\n",
      "dropout_10 (Dropout)         (None, 73, 1024)          0         \n",
      "_________________________________________________________________\n",
      "dense_7 (Dense)              (None, 73, 1024)          1049600   \n",
      "_________________________________________________________________\n",
      "dropout_11 (Dropout)         (None, 73, 1024)          0         \n",
      "_________________________________________________________________\n",
      "dense_8 (Dense)              (None, 73, 1)             1025      \n",
      "=================================================================\n",
      "Total params: 2,158,049\n",
      "Trainable params: 2,158,049\n",
      "Non-trainable params: 0\n",
      "_________________________________________________________________\n"
     ]
    }
   ],
   "source": [
    "model3.summary()"
   ]
  },
  {
   "cell_type": "code",
   "execution_count": 51,
   "metadata": {
    "execution": {
     "iopub.execute_input": "2020-11-24T20:36:56.216447Z",
     "iopub.status.busy": "2020-11-24T20:36:56.215275Z",
     "iopub.status.idle": "2020-11-24T20:36:56.221366Z",
     "shell.execute_reply": "2020-11-24T20:36:56.222349Z"
    },
    "papermill": {
     "duration": 1.110143,
     "end_time": "2020-11-24T20:36:56.222501",
     "exception": false,
     "start_time": "2020-11-24T20:36:55.112358",
     "status": "completed"
    },
    "tags": []
   },
   "outputs": [],
   "source": [
    "model3.compile(optimizer='Adam', loss='binary_crossentropy', metrics=['acc'])"
   ]
  },
  {
   "cell_type": "code",
   "execution_count": 52,
   "metadata": {
    "execution": {
     "iopub.execute_input": "2020-11-24T20:36:57.981863Z",
     "iopub.status.busy": "2020-11-24T20:36:57.978840Z",
     "iopub.status.idle": "2020-11-24T20:37:50.213428Z",
     "shell.execute_reply": "2020-11-24T20:37:50.212748Z"
    },
    "papermill": {
     "duration": 53.226143,
     "end_time": "2020-11-24T20:37:50.213561",
     "exception": false,
     "start_time": "2020-11-24T20:36:56.987418",
     "status": "completed"
    },
    "tags": []
   },
   "outputs": [
    {
     "name": "stdout",
     "output_type": "stream",
     "text": [
      "Epoch 1/10\n",
      "140/140 [==============================] - 6s 42ms/step - loss: 0.2494 - acc: 0.9303 - val_loss: 0.0584 - val_acc: 0.9883\n",
      "Epoch 2/10\n",
      "140/140 [==============================] - 4s 30ms/step - loss: 0.0815 - acc: 0.9858 - val_loss: 0.0711 - val_acc: 0.9849\n",
      "Epoch 3/10\n",
      "140/140 [==============================] - 4s 31ms/step - loss: 0.0324 - acc: 0.9943 - val_loss: 0.0600 - val_acc: 0.9849\n",
      "Epoch 4/10\n",
      "140/140 [==============================] - 4s 30ms/step - loss: 0.0329 - acc: 0.9893 - val_loss: 0.1246 - val_acc: 0.9814\n",
      "Epoch 5/10\n",
      "140/140 [==============================] - 4s 30ms/step - loss: 0.0188 - acc: 0.9973 - val_loss: 0.0895 - val_acc: 0.9835\n",
      "Epoch 6/10\n",
      "140/140 [==============================] - 6s 40ms/step - loss: 0.0125 - acc: 0.9983 - val_loss: 0.0925 - val_acc: 0.9858\n",
      "Epoch 7/10\n",
      "140/140 [==============================] - 4s 31ms/step - loss: 0.0117 - acc: 0.9984 - val_loss: 0.1587 - val_acc: 0.9743\n",
      "Epoch 8/10\n",
      "140/140 [==============================] - 4s 32ms/step - loss: 0.0299 - acc: 0.9960 - val_loss: 0.1194 - val_acc: 0.9848\n",
      "Epoch 9/10\n",
      "140/140 [==============================] - 4s 31ms/step - loss: 0.0130 - acc: 0.9984 - val_loss: 0.1075 - val_acc: 0.9851\n",
      "Epoch 10/10\n",
      "140/140 [==============================] - 4s 30ms/step - loss: 0.0109 - acc: 0.9987 - val_loss: 0.1284 - val_acc: 0.9848\n"
     ]
    },
    {
     "data": {
      "text/plain": [
       "<tensorflow.python.keras.callbacks.History at 0x7f27ce965090>"
      ]
     },
     "execution_count": 52,
     "metadata": {},
     "output_type": "execute_result"
    }
   ],
   "source": [
    "model3.fit(X_train, y_train, validation_data=(X_test, y_test), epochs=epochs, batch_size=batch_size)"
   ]
  },
  {
   "cell_type": "markdown",
   "metadata": {
    "papermill": {
     "duration": 1.007652,
     "end_time": "2020-11-24T20:37:52.502732",
     "exception": false,
     "start_time": "2020-11-24T20:37:51.495080",
     "status": "completed"
    },
    "tags": []
   },
   "source": [
    "### Let us compare all the three models"
   ]
  },
  {
   "cell_type": "code",
   "execution_count": 53,
   "metadata": {
    "execution": {
     "iopub.execute_input": "2020-11-24T20:37:54.572001Z",
     "iopub.status.busy": "2020-11-24T20:37:54.570243Z",
     "iopub.status.idle": "2020-11-24T20:37:54.572736Z",
     "shell.execute_reply": "2020-11-24T20:37:54.573236Z"
    },
    "papermill": {
     "duration": 1.060768,
     "end_time": "2020-11-24T20:37:54.573379",
     "exception": false,
     "start_time": "2020-11-24T20:37:53.512611",
     "status": "completed"
    },
    "tags": []
   },
   "outputs": [],
   "source": [
    "metrics1 = pd.DataFrame(model1.history.history)\n",
    "metrics2 = pd.DataFrame(model2.history.history)\n",
    "metrics3 = pd.DataFrame(model3.history.history)"
   ]
  },
  {
   "cell_type": "code",
   "execution_count": 54,
   "metadata": {
    "execution": {
     "iopub.execute_input": "2020-11-24T20:37:56.611813Z",
     "iopub.status.busy": "2020-11-24T20:37:56.610807Z",
     "iopub.status.idle": "2020-11-24T20:37:56.850849Z",
     "shell.execute_reply": "2020-11-24T20:37:56.849767Z"
    },
    "papermill": {
     "duration": 1.265607,
     "end_time": "2020-11-24T20:37:56.850971",
     "exception": false,
     "start_time": "2020-11-24T20:37:55.585364",
     "status": "completed"
    },
    "tags": []
   },
   "outputs": [
    {
     "data": {
      "image/png": "[encoded data removed]",
      "text/plain": [
       "<Figure size 432x288 with 1 Axes>"
      ]
     },
     "metadata": {
      "needs_background": "light"
     },
     "output_type": "display_data"
    }
   ],
   "source": [
    "metrics1['acc'].plot(label='SimpleRNN')\n",
    "metrics2['acc'].plot(label='LSTM')\n",
    "metrics3['acc'].plot(label='Bidirectional RNN')\n",
    "plt.legend()\n",
    "plt.show()"
   ]
  },
  {
   "cell_type": "code",
   "execution_count": 55,
   "metadata": {
    "execution": {
     "iopub.execute_input": "2020-11-24T20:37:58.980597Z",
     "iopub.status.busy": "2020-11-24T20:37:58.978618Z",
     "iopub.status.idle": "2020-11-24T20:37:59.168688Z",
     "shell.execute_reply": "2020-11-24T20:37:59.169269Z"
    },
    "papermill": {
     "duration": 1.235501,
     "end_time": "2020-11-24T20:37:59.169414",
     "exception": false,
     "start_time": "2020-11-24T20:37:57.933913",
     "status": "completed"
    },
    "tags": []
   },
   "outputs": [
    {
     "data": {
      "image/png": "[encoded data removed]",
      "text/plain": [
       "<Figure size 432x288 with 1 Axes>"
      ]
     },
     "metadata": {
      "needs_background": "light"
     },
     "output_type": "display_data"
    }
   ],
   "source": [
    "metrics1['val_acc'].plot(label='SimpleRNN')\n",
    "metrics2['val_acc'].plot(label='LSTM')\n",
    "metrics3['val_acc'].plot(label='Bidirectional RNN')\n",
    "plt.legend()\n",
    "plt.show()"
   ]
  },
  {
   "cell_type": "markdown",
   "metadata": {
    "papermill": {
     "duration": 1.049031,
     "end_time": "2020-11-24T20:38:01.253477",
     "exception": false,
     "start_time": "2020-11-24T20:38:00.204446",
     "status": "completed"
    },
    "tags": []
   },
   "source": [
    "### This clearly shows that Bidirectional RNN works best. Although simple LSTM models also performs good and can be used for many tasks."
   ]
  },
  {
   "cell_type": "markdown",
   "metadata": {
    "papermill": {
     "duration": 1.164769,
     "end_time": "2020-11-24T20:38:03.926748",
     "exception": false,
     "start_time": "2020-11-24T20:38:02.761979",
     "status": "completed"
    },
    "tags": []
   },
   "source": [
    "# Summary"
   ]
  },
  {
   "cell_type": "markdown",
   "metadata": {
    "papermill": {
     "duration": 1.018918,
     "end_time": "2020-11-24T20:38:05.973205",
     "exception": false,
     "start_time": "2020-11-24T20:38:04.954287",
     "status": "completed"
    },
    "tags": []
   },
   "source": [
    "So, we come to an end. Some key points to note are:-\n",
    "* Both ML and DL way has its own advantages and disadvantages.\n",
    "* ML way is usually easier and a much faster way\n",
    "* On the other hand DL way can be much slower. But it generally gives better results as compared to the previous one. \n",
    "* Each one have its pros and cons and it ultimately depends on your need and expectations.\n",
    "\n",
    "In the end I would like to say that this is not a comparison notebook between ml and dl way. I have just tried to put information about practical approach for NLP problems as much as possible. So, if you are not familiar with deep learning then focus on ml part and vice versa and if you are familiar with both then you can work with anyone.<br>\n",
    "![](https://cdn.wpforms.com/wp-content/uploads/2017/04/thank-you-page-examples.jpg)"
   ]
  }
 ],
 "metadata": {
  "kernelspec": {
   "display_name": "Python 3",
   "language": "python",
   "name": "python3"
  },
  "language_info": {
   "codemirror_mode": {
    "name": "ipython",
    "version": 3
   },
   "file_extension": ".py",
   "mimetype": "text/x-python",
   "name": "python",
   "nbconvert_exporter": "python",
   "pygments_lexer": "ipython3",
   "version": "3.7.6"
  },
  "papermill": {
   "duration": 336.545952,
   "end_time": "2020-11-24T20:38:10.701216",
   "environment_variables": {},
   "exception": null,
   "input_path": "__notebook__.ipynb",
   "output_path": "__notebook__.ipynb",
   "parameters": {},
   "start_time": "2020-11-24T20:32:34.155264",
   "version": "2.1.0"
  }
 },
 "nbformat": 4,
 "nbformat_minor": 4
}
